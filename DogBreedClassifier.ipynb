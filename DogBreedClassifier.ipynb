{
  "nbformat": 4,
  "nbformat_minor": 0,
  "metadata": {
    "accelerator": "GPU",
    "colab": {
      "name": "DogBreedClassifier.ipynb",
      "provenance": [],
      "collapsed_sections": [],
      "authorship_tag": "ABX9TyPtg/AIZ15K3u9aJqTLfS45",
      "include_colab_link": true
    },
    "kernelspec": {
      "display_name": "Python 3",
      "name": "python3"
    },
    "language_info": {
      "name": "python"
    }
  },
  "cells": [
    {
      "cell_type": "markdown",
      "metadata": {
        "id": "view-in-github",
        "colab_type": "text"
      },
      "source": [
        "<a href=\"https://colab.research.google.com/github/rohang1411/Dog-Breed-Classification/blob/main/DogBreedClassifier.ipynb\" target=\"_parent\"><img src=\"https://colab.research.google.com/assets/colab-badge.svg\" alt=\"Open In Colab\"/></a>"
      ]
    },
    {
      "cell_type": "code",
      "metadata": {
        "id": "DMv2YnOwIVL_"
      },
      "source": [
        "from google.colab import files\n",
        "import os\n",
        "import cv2 as cv\n",
        "import numpy as np\n",
        "import pandas as pd"
      ],
      "execution_count": 1,
      "outputs": []
    },
    {
      "cell_type": "markdown",
      "metadata": {
        "id": "m0LI_9sLKTRX"
      },
      "source": [
        "### Taking data drom Drive"
      ]
    },
    {
      "cell_type": "code",
      "metadata": {
        "colab": {
          "base_uri": "https://localhost:8080/"
        },
        "id": "GXPJrKDYkZdV",
        "outputId": "3e745279-bdd3-4a75-aee4-57678bbb821a"
      },
      "source": [
        "from google.colab import drive\n",
        "drive.mount('/content/drive/', force_remount=True)"
      ],
      "execution_count": 2,
      "outputs": [
        {
          "output_type": "stream",
          "text": [
            "Mounted at /content/drive/\n"
          ],
          "name": "stdout"
        }
      ]
    },
    {
      "cell_type": "code",
      "metadata": {
        "colab": {
          "base_uri": "https://localhost:8080/"
        },
        "id": "pI7PfaR2fx4O",
        "outputId": "55f0c909-5174-46cc-9d1e-1cfea1c1510f"
      },
      "source": [
        "!pwd"
      ],
      "execution_count": 3,
      "outputs": [
        {
          "output_type": "stream",
          "text": [
            "/content\n"
          ],
          "name": "stdout"
        }
      ]
    },
    {
      "cell_type": "code",
      "metadata": {
        "colab": {
          "base_uri": "https://localhost:8080/"
        },
        "id": "D90BOHstf0wY",
        "outputId": "dc8a6843-c000-4b91-fede-91f2131fb949"
      },
      "source": [
        "%cd /content/drive/MyDrive/DATASETS/dog-breed-identification"
      ],
      "execution_count": 4,
      "outputs": [
        {
          "output_type": "stream",
          "text": [
            "/content/drive/MyDrive/DATASETS/dog-breed-identification\n"
          ],
          "name": "stdout"
        }
      ]
    },
    {
      "cell_type": "code",
      "metadata": {
        "colab": {
          "base_uri": "https://localhost:8080/"
        },
        "id": "PJ2XmgxXf8UE",
        "outputId": "203ab8b5-91b6-4d82-e1dc-80ca6e484985"
      },
      "source": [
        "!pwd"
      ],
      "execution_count": 5,
      "outputs": [
        {
          "output_type": "stream",
          "text": [
            "/content/drive/MyDrive/DATASETS/dog-breed-identification\n"
          ],
          "name": "stdout"
        }
      ]
    },
    {
      "cell_type": "code",
      "metadata": {
        "colab": {
          "base_uri": "https://localhost:8080/"
        },
        "id": "_P5_slTLgMXF",
        "outputId": "85cf6e1b-6e5e-40af-b67e-152708a640f2"
      },
      "source": [
        "!ls"
      ],
      "execution_count": 6,
      "outputs": [
        {
          "output_type": "stream",
          "text": [
            "dogbreedmodel.h5\t  labels.csv  train\n",
            "dogbreedmodelresnet50.h5  test\t      train_x_dog_breed_classification.npy\n"
          ],
          "name": "stdout"
        }
      ]
    },
    {
      "cell_type": "markdown",
      "metadata": {
        "id": "_y3Y8VcuKZx0"
      },
      "source": [
        "##### Importing labels"
      ]
    },
    {
      "cell_type": "code",
      "metadata": {
        "colab": {
          "base_uri": "https://localhost:8080/",
          "height": 200
        },
        "id": "gTyPED2tkyln",
        "outputId": "7c40b9ac-e9c0-4885-83a5-a60f693c4e4f"
      },
      "source": [
        "labels = pd.read_csv('labels.csv')\n",
        "labels.head()"
      ],
      "execution_count": 7,
      "outputs": [
        {
          "output_type": "execute_result",
          "data": {
            "text/html": [
              "<div>\n",
              "<style scoped>\n",
              "    .dataframe tbody tr th:only-of-type {\n",
              "        vertical-align: middle;\n",
              "    }\n",
              "\n",
              "    .dataframe tbody tr th {\n",
              "        vertical-align: top;\n",
              "    }\n",
              "\n",
              "    .dataframe thead th {\n",
              "        text-align: right;\n",
              "    }\n",
              "</style>\n",
              "<table border=\"1\" class=\"dataframe\">\n",
              "  <thead>\n",
              "    <tr style=\"text-align: right;\">\n",
              "      <th></th>\n",
              "      <th>id</th>\n",
              "      <th>breed</th>\n",
              "    </tr>\n",
              "  </thead>\n",
              "  <tbody>\n",
              "    <tr>\n",
              "      <th>0</th>\n",
              "      <td>000bec180eb18c7604dcecc8fe0dba07</td>\n",
              "      <td>boston_bull</td>\n",
              "    </tr>\n",
              "    <tr>\n",
              "      <th>1</th>\n",
              "      <td>001513dfcb2ffafc82cccf4d8bbaba97</td>\n",
              "      <td>dingo</td>\n",
              "    </tr>\n",
              "    <tr>\n",
              "      <th>2</th>\n",
              "      <td>001cdf01b096e06d78e9e5112d419397</td>\n",
              "      <td>pekinese</td>\n",
              "    </tr>\n",
              "    <tr>\n",
              "      <th>3</th>\n",
              "      <td>00214f311d5d2247d5dfe4fe24b2303d</td>\n",
              "      <td>bluetick</td>\n",
              "    </tr>\n",
              "    <tr>\n",
              "      <th>4</th>\n",
              "      <td>0021f9ceb3235effd7fcde7f7538ed62</td>\n",
              "      <td>golden_retriever</td>\n",
              "    </tr>\n",
              "  </tbody>\n",
              "</table>\n",
              "</div>"
            ],
            "text/plain": [
              "                                 id             breed\n",
              "0  000bec180eb18c7604dcecc8fe0dba07       boston_bull\n",
              "1  001513dfcb2ffafc82cccf4d8bbaba97             dingo\n",
              "2  001cdf01b096e06d78e9e5112d419397          pekinese\n",
              "3  00214f311d5d2247d5dfe4fe24b2303d          bluetick\n",
              "4  0021f9ceb3235effd7fcde7f7538ed62  golden_retriever"
            ]
          },
          "metadata": {
            "tags": []
          },
          "execution_count": 7
        }
      ]
    },
    {
      "cell_type": "code",
      "metadata": {
        "colab": {
          "base_uri": "https://localhost:8080/"
        },
        "id": "NvIpm0uRTEe2",
        "outputId": "a47eded3-b178-4b58-ab2b-e52abfef21ed"
      },
      "source": [
        "labels_str_list = labels['breed'].unique()\n",
        "labels_str_list "
      ],
      "execution_count": 8,
      "outputs": [
        {
          "output_type": "execute_result",
          "data": {
            "text/plain": [
              "array(['boston_bull', 'dingo', 'pekinese', 'bluetick', 'golden_retriever',\n",
              "       'bedlington_terrier', 'borzoi', 'basenji', 'scottish_deerhound',\n",
              "       'shetland_sheepdog', 'walker_hound', 'maltese_dog',\n",
              "       'norfolk_terrier', 'african_hunting_dog',\n",
              "       'wire-haired_fox_terrier', 'redbone', 'lakeland_terrier', 'boxer',\n",
              "       'doberman', 'otterhound', 'standard_schnauzer',\n",
              "       'irish_water_spaniel', 'black-and-tan_coonhound', 'cairn',\n",
              "       'affenpinscher', 'labrador_retriever', 'ibizan_hound',\n",
              "       'english_setter', 'weimaraner', 'giant_schnauzer', 'groenendael',\n",
              "       'dhole', 'toy_poodle', 'border_terrier', 'tibetan_terrier',\n",
              "       'norwegian_elkhound', 'shih-tzu', 'irish_terrier', 'kuvasz',\n",
              "       'german_shepherd', 'greater_swiss_mountain_dog', 'basset',\n",
              "       'australian_terrier', 'schipperke', 'rhodesian_ridgeback',\n",
              "       'irish_setter', 'appenzeller', 'bloodhound', 'samoyed',\n",
              "       'miniature_schnauzer', 'brittany_spaniel', 'kelpie', 'papillon',\n",
              "       'border_collie', 'entlebucher', 'collie', 'malamute',\n",
              "       'welsh_springer_spaniel', 'chihuahua', 'saluki', 'pug', 'malinois',\n",
              "       'komondor', 'airedale', 'leonberg', 'mexican_hairless',\n",
              "       'bull_mastiff', 'bernese_mountain_dog',\n",
              "       'american_staffordshire_terrier', 'lhasa', 'cardigan',\n",
              "       'italian_greyhound', 'clumber', 'scotch_terrier', 'afghan_hound',\n",
              "       'old_english_sheepdog', 'saint_bernard', 'miniature_pinscher',\n",
              "       'eskimo_dog', 'irish_wolfhound', 'brabancon_griffon',\n",
              "       'toy_terrier', 'chow', 'flat-coated_retriever', 'norwich_terrier',\n",
              "       'soft-coated_wheaten_terrier', 'staffordshire_bullterrier',\n",
              "       'english_foxhound', 'gordon_setter', 'siberian_husky',\n",
              "       'newfoundland', 'briard', 'chesapeake_bay_retriever',\n",
              "       'dandie_dinmont', 'great_pyrenees', 'beagle', 'vizsla',\n",
              "       'west_highland_white_terrier', 'kerry_blue_terrier', 'whippet',\n",
              "       'sealyham_terrier', 'standard_poodle', 'keeshond',\n",
              "       'japanese_spaniel', 'miniature_poodle', 'pomeranian',\n",
              "       'curly-coated_retriever', 'yorkshire_terrier', 'pembroke',\n",
              "       'great_dane', 'blenheim_spaniel', 'silky_terrier',\n",
              "       'sussex_spaniel', 'german_short-haired_pointer', 'french_bulldog',\n",
              "       'bouvier_des_flandres', 'tibetan_mastiff', 'english_springer',\n",
              "       'cocker_spaniel', 'rottweiler'], dtype=object)"
            ]
          },
          "metadata": {
            "tags": []
          },
          "execution_count": 8
        }
      ]
    },
    {
      "cell_type": "code",
      "metadata": {
        "id": "ZTIAIvZVmpxi"
      },
      "source": [
        "breeds = ['boston_bull', 'dingo', 'pekinese', 'bluetick', 'golden_retriever',\n",
        "       'bedlington_terrier', 'borzoi', 'basenji', 'scottish_deerhound',\n",
        "       'shetland_sheepdog', 'walker_hound', 'maltese_dog',\n",
        "       'norfolk_terrier', 'african_hunting_dog',\n",
        "       'wire-haired_fox_terrier', 'redbone', 'lakeland_terrier', 'boxer',\n",
        "       'doberman', 'otterhound', 'standard_schnauzer',\n",
        "       'irish_water_spaniel', 'black-and-tan_coonhound', 'cairn',\n",
        "       'affenpinscher', 'labrador_retriever', 'ibizan_hound',\n",
        "       'english_setter', 'weimaraner', 'giant_schnauzer', 'groenendael',\n",
        "       'dhole', 'toy_poodle', 'border_terrier', 'tibetan_terrier',\n",
        "       'norwegian_elkhound', 'shih-tzu', 'irish_terrier', 'kuvasz',\n",
        "       'german_shepherd', 'greater_swiss_mountain_dog', 'basset',\n",
        "       'australian_terrier', 'schipperke', 'rhodesian_ridgeback',\n",
        "       'irish_setter', 'appenzeller', 'bloodhound', 'samoyed',\n",
        "       'miniature_schnauzer', 'brittany_spaniel', 'kelpie', 'papillon',\n",
        "       'border_collie', 'entlebucher', 'collie', 'malamute',\n",
        "       'welsh_springer_spaniel', 'chihuahua', 'saluki', 'pug', 'malinois',\n",
        "       'komondor', 'airedale', 'leonberg', 'mexican_hairless',\n",
        "       'bull_mastiff', 'bernese_mountain_dog',\n",
        "       'american_staffordshire_terrier', 'lhasa', 'cardigan',\n",
        "       'italian_greyhound', 'clumber', 'scotch_terrier', 'afghan_hound',\n",
        "       'old_english_sheepdog', 'saint_bernard', 'miniature_pinscher',\n",
        "       'eskimo_dog', 'irish_wolfhound', 'brabancon_griffon',\n",
        "       'toy_terrier', 'chow', 'flat-coated_retriever', 'norwich_terrier',\n",
        "       'soft-coated_wheaten_terrier', 'staffordshire_bullterrier',\n",
        "       'english_foxhound', 'gordon_setter', 'siberian_husky',\n",
        "       'newfoundland', 'briard', 'chesapeake_bay_retriever',\n",
        "       'dandie_dinmont', 'great_pyrenees', 'beagle', 'vizsla',\n",
        "       'west_highland_white_terrier', 'kerry_blue_terrier', 'whippet',\n",
        "       'sealyham_terrier', 'standard_poodle', 'keeshond',\n",
        "       'japanese_spaniel', 'miniature_poodle', 'pomeranian',\n",
        "       'curly-coated_retriever', 'yorkshire_terrier', 'pembroke',\n",
        "       'great_dane', 'blenheim_spaniel', 'silky_terrier',\n",
        "       'sussex_spaniel', 'german_short-haired_pointer', 'french_bulldog',\n",
        "       'bouvier_des_flandres', 'tibetan_mastiff', 'english_springer',\n",
        "       'cocker_spaniel', 'rottweiler']"
      ],
      "execution_count": 9,
      "outputs": []
    },
    {
      "cell_type": "code",
      "metadata": {
        "colab": {
          "base_uri": "https://localhost:8080/"
        },
        "id": "sOcE_8gmTNxB",
        "outputId": "00683337-2ca3-4d89-f2ec-af23d913fd42"
      },
      "source": [
        "len(labels['breed'].unique())"
      ],
      "execution_count": 10,
      "outputs": [
        {
          "output_type": "execute_result",
          "data": {
            "text/plain": [
              "120"
            ]
          },
          "metadata": {
            "tags": []
          },
          "execution_count": 10
        }
      ]
    },
    {
      "cell_type": "code",
      "metadata": {
        "colab": {
          "base_uri": "https://localhost:8080/"
        },
        "id": "C6byksIViY_F",
        "outputId": "7eecd136-bc52-4f90-b61f-3babfb269322"
      },
      "source": [
        "%cd train"
      ],
      "execution_count": 11,
      "outputs": [
        {
          "output_type": "stream",
          "text": [
            "/content/drive/My Drive/DATASETS/dog-breed-identification/train\n"
          ],
          "name": "stdout"
        }
      ]
    },
    {
      "cell_type": "code",
      "metadata": {
        "colab": {
          "base_uri": "https://localhost:8080/"
        },
        "id": "05Wm3AnloULw",
        "outputId": "fcf17329-7e8e-4b74-c9ef-a091c87fb5b8"
      },
      "source": [
        "len(os.listdir())"
      ],
      "execution_count": 12,
      "outputs": [
        {
          "output_type": "execute_result",
          "data": {
            "text/plain": [
              "10224"
            ]
          },
          "metadata": {
            "tags": []
          },
          "execution_count": 12
        }
      ]
    },
    {
      "cell_type": "code",
      "metadata": {
        "colab": {
          "base_uri": "https://localhost:8080/"
        },
        "id": "bOXd1Sae7fd8",
        "outputId": "99e16380-b262-478e-e1ca-015bba697305"
      },
      "source": [
        "len(labels)"
      ],
      "execution_count": 13,
      "outputs": [
        {
          "output_type": "execute_result",
          "data": {
            "text/plain": [
              "10222"
            ]
          },
          "metadata": {
            "tags": []
          },
          "execution_count": 13
        }
      ]
    },
    {
      "cell_type": "code",
      "metadata": {
        "colab": {
          "base_uri": "https://localhost:8080/"
        },
        "id": "g9xQNS8rCTpo",
        "outputId": "bc77ee08-3a86-4e55-c61f-033d578b40e7"
      },
      "source": [
        "!pwd"
      ],
      "execution_count": 14,
      "outputs": [
        {
          "output_type": "stream",
          "text": [
            "/content/drive/My Drive/DATASETS/dog-breed-identification/train\n"
          ],
          "name": "stdout"
        }
      ]
    },
    {
      "cell_type": "markdown",
      "metadata": {
        "id": "xGtSi8eUKhLO"
      },
      "source": [
        "### Sample Image After resizing"
      ]
    },
    {
      "cell_type": "code",
      "metadata": {
        "colab": {
          "base_uri": "https://localhost:8080/",
          "height": 35
        },
        "id": "hzfleuWAin5h",
        "outputId": "2215e165-1109-47e5-c53b-7d3af1a57b80"
      },
      "source": [
        "path = !pwd\n",
        "path = path[0]\n",
        "path"
      ],
      "execution_count": 15,
      "outputs": [
        {
          "output_type": "execute_result",
          "data": {
            "application/vnd.google.colaboratory.intrinsic+json": {
              "type": "string"
            },
            "text/plain": [
              "'/content/drive/My Drive/DATASETS/dog-breed-identification/train'"
            ]
          },
          "metadata": {
            "tags": []
          },
          "execution_count": 15
        }
      ]
    },
    {
      "cell_type": "code",
      "metadata": {
        "colab": {
          "base_uri": "https://localhost:8080/",
          "height": 285
        },
        "id": "OjNj3EsdB0VK",
        "outputId": "6cde97b4-545c-41e2-93bb-4799beed5d9c"
      },
      "source": [
        "from matplotlib import pyplot as plt\n",
        "from PIL import Image\n",
        "\n",
        "img = Image.open(path + '/' + str(labels['id'][0])+ '.jpg')\n",
        "img = np.asarray(img)\n",
        "resimg = cv.resize(img, (250,250))\n",
        "plt.imshow(resimg)"
      ],
      "execution_count": 16,
      "outputs": [
        {
          "output_type": "execute_result",
          "data": {
            "text/plain": [
              "<matplotlib.image.AxesImage at 0x7f74fdb8a250>"
            ]
          },
          "metadata": {
            "tags": []
          },
          "execution_count": 16
        },
        {
          "output_type": "display_data",
          "data": {
            "image/png": "[encoded data removed]",
            "text/plain": [
              "<Figure size 432x288 with 1 Axes>"
            ]
          },
          "metadata": {
            "tags": [],
            "needs_background": "light"
          }
        }
      ]
    },
    {
      "cell_type": "markdown",
      "metadata": {
        "id": "jlDcDCuiKoo2"
      },
      "source": [
        "### Creating the training set"
      ]
    },
    {
      "cell_type": "code",
      "metadata": {
        "colab": {
          "base_uri": "https://localhost:8080/"
        },
        "id": "HlHik2S2DDQI",
        "outputId": "abe860f4-f587-4d50-b43e-4212c452c04a"
      },
      "source": [
        "%cd .."
      ],
      "execution_count": 17,
      "outputs": [
        {
          "output_type": "stream",
          "text": [
            "/content/drive/My Drive/DATASETS/dog-breed-identification\n"
          ],
          "name": "stdout"
        }
      ]
    },
    {
      "cell_type": "code",
      "metadata": {
        "colab": {
          "base_uri": "https://localhost:8080/"
        },
        "id": "IoNmpYguDE-1",
        "outputId": "e72ce420-166e-4fb4-e52a-bf19bbb2be1b"
      },
      "source": [
        "%cd train"
      ],
      "execution_count": 18,
      "outputs": [
        {
          "output_type": "stream",
          "text": [
            "/content/drive/My Drive/DATASETS/dog-breed-identification/train\n"
          ],
          "name": "stdout"
        }
      ]
    },
    {
      "cell_type": "markdown",
      "metadata": {
        "id": "WDmgo9IhZUg1"
      },
      "source": [
        "Resizing all the images to 128 x 128 pixels and converting them to a numpy array"
      ]
    },
    {
      "cell_type": "code",
      "metadata": {
        "id": "kmqFWu21itvC"
      },
      "source": [
        "train_x = []                                                                                                                                                                                                                                                                          \n",
        "\n",
        "for i in range(10000):\n",
        "\n",
        "  img = cv.imread(path + '/' + str(labels['id'][i])+ '.jpg')\n",
        "  \n",
        "  if type(img) == type(None):\n",
        "    pass\n",
        "  else:\n",
        "    resimg = cv.resize(img, (128,128))\n",
        "    train_x.append(resimg)\n",
        "    tmp = i\n",
        "    print(\"Processing file #\",i)\n",
        "    \n",
        "print(\"Processed Training Data - %tmp files\".format(tmp = tmp),i)\n",
        "train_x = np.array(train_x)"
      ],
      "execution_count": null,
      "outputs": []
    },
    {
      "cell_type": "code",
      "metadata": {
        "id": "UgQ4f7I0IeJ3"
      },
      "source": [
        "temp_x = train_x"
      ],
      "execution_count": 20,
      "outputs": []
    },
    {
      "cell_type": "code",
      "metadata": {
        "colab": {
          "base_uri": "https://localhost:8080/",
          "height": 17
        },
        "id": "NCP7_5A4H-_E",
        "outputId": "71655308-3422-42df-9eca-1d74c8d16241"
      },
      "source": [
        "np.save(\"train_x_dog_breed_classification.npy\", train_x)\n",
        "files.download(\"train_x_dog_breed_classification.npy\")"
      ],
      "execution_count": 57,
      "outputs": [
        {
          "output_type": "display_data",
          "data": {
            "application/javascript": [
              "\n",
              "    async function download(id, filename, size) {\n",
              "      if (!google.colab.kernel.accessAllowed) {\n",
              "        return;\n",
              "      }\n",
              "      const div = document.createElement('div');\n",
              "      const label = document.createElement('label');\n",
              "      label.textContent = `Downloading \"${filename}\": `;\n",
              "      div.appendChild(label);\n",
              "      const progress = document.createElement('progress');\n",
              "      progress.max = size;\n",
              "      div.appendChild(progress);\n",
              "      document.body.appendChild(div);\n",
              "\n",
              "      const buffers = [];\n",
              "      let downloaded = 0;\n",
              "\n",
              "      const channel = await google.colab.kernel.comms.open(id);\n",
              "      // Send a message to notify the kernel that we're ready.\n",
              "      channel.send({})\n",
              "\n",
              "      for await (const message of channel.messages) {\n",
              "        // Send a message to notify the kernel that we're ready.\n",
              "        channel.send({})\n",
              "        if (message.buffers) {\n",
              "          for (const buffer of message.buffers) {\n",
              "            buffers.push(buffer);\n",
              "            downloaded += buffer.byteLength;\n",
              "            progress.value = downloaded;\n",
              "          }\n",
              "        }\n",
              "      }\n",
              "      const blob = new Blob(buffers, {type: 'application/binary'});\n",
              "      const a = document.createElement('a');\n",
              "      a.href = window.URL.createObjectURL(blob);\n",
              "      a.download = filename;\n",
              "      div.appendChild(a);\n",
              "      a.click();\n",
              "      div.remove();\n",
              "    }\n",
              "  "
            ],
            "text/plain": [
              "<IPython.core.display.Javascript object>"
            ]
          },
          "metadata": {
            "tags": []
          }
        },
        {
          "output_type": "display_data",
          "data": {
            "application/javascript": [
              "download(\"download_aa77926a-50c7-4fb5-a373-bd3ecf74ca05\", \"train_x_dog_breed_classification.npy\", 491520128)"
            ],
            "text/plain": [
              "<IPython.core.display.Javascript object>"
            ]
          },
          "metadata": {
            "tags": []
          }
        }
      ]
    },
    {
      "cell_type": "code",
      "metadata": {
        "id": "YK5OEiM3eavF"
      },
      "source": [
        "train_x = np.load(\"train_x_dog_breed_classification.npy\")"
      ],
      "execution_count": 22,
      "outputs": []
    },
    {
      "cell_type": "code",
      "metadata": {
        "colab": {
          "base_uri": "https://localhost:8080/"
        },
        "id": "lTR9eKL8k-rn",
        "outputId": "d64a9257-ebf1-47ca-a473-019ebb7e7c9d"
      },
      "source": [
        "len(train_x)"
      ],
      "execution_count": 23,
      "outputs": [
        {
          "output_type": "execute_result",
          "data": {
            "text/plain": [
              "10000"
            ]
          },
          "metadata": {
            "tags": []
          },
          "execution_count": 23
        }
      ]
    },
    {
      "cell_type": "markdown",
      "metadata": {
        "id": "IMNst2RpK312"
      },
      "source": [
        "### Creating the testing set"
      ]
    },
    {
      "cell_type": "code",
      "metadata": {
        "colab": {
          "base_uri": "https://localhost:8080/"
        },
        "id": "3Jl3rLwC-E1b",
        "outputId": "dbf8789d-fcb1-405d-8d7c-f36389ec2426"
      },
      "source": [
        "%cd .."
      ],
      "execution_count": 24,
      "outputs": [
        {
          "output_type": "stream",
          "text": [
            "/content/drive/My Drive/DATASETS/dog-breed-identification\n"
          ],
          "name": "stdout"
        }
      ]
    },
    {
      "cell_type": "code",
      "metadata": {
        "colab": {
          "base_uri": "https://localhost:8080/"
        },
        "id": "CxvSijyH-KaK",
        "outputId": "67ea0fca-8b74-4c8a-c8a7-d3d8556673ab"
      },
      "source": [
        "%cd test"
      ],
      "execution_count": 25,
      "outputs": [
        {
          "output_type": "stream",
          "text": [
            "/content/drive/My Drive/DATASETS/dog-breed-identification/test\n"
          ],
          "name": "stdout"
        }
      ]
    },
    {
      "cell_type": "code",
      "metadata": {
        "colab": {
          "base_uri": "https://localhost:8080/"
        },
        "id": "2sE4SW0V91hE",
        "outputId": "eb223af7-b967-43cc-929d-a826fb8c9e8c"
      },
      "source": [
        "test_x = []                                                                                                                                                                                                                                                                          \n",
        "\n",
        "for i in range(10000):\n",
        "  \n",
        "  img = cv.imread(path + '/' + str(labels['id'][i]) + '.jpg')\n",
        "  \n",
        "  if type(img) == type(None):\n",
        "    pass\n",
        "  else:\n",
        "    resimg = cv.resize(img, (128,128))\n",
        "    test_x.append(resimg)\n",
        "    tmp = i\n",
        "    # print(\"Processing file #\",i)\n",
        "print(\"Processed Training Data - %tmp files\".format(tmp = tmp),i)\n",
        "test_x = np.array(test_x)"
      ],
      "execution_count": 26,
      "outputs": [
        {
          "output_type": "stream",
          "text": [
            "Processed Training Data - %tmp files 9999\n"
          ],
          "name": "stdout"
        }
      ]
    },
    {
      "cell_type": "code",
      "metadata": {
        "colab": {
          "base_uri": "https://localhost:8080/",
          "height": 17
        },
        "id": "auV5Ns9Oeigm",
        "outputId": "3c692255-6cbc-400b-e3de-efc52e78a877"
      },
      "source": [
        "np.save(\"test_x_dog_breed_classification.npy\", test_x)\n",
        "files.download(\"test_x_dog_breed_classification.npy\")"
      ],
      "execution_count": 58,
      "outputs": [
        {
          "output_type": "display_data",
          "data": {
            "application/javascript": [
              "\n",
              "    async function download(id, filename, size) {\n",
              "      if (!google.colab.kernel.accessAllowed) {\n",
              "        return;\n",
              "      }\n",
              "      const div = document.createElement('div');\n",
              "      const label = document.createElement('label');\n",
              "      label.textContent = `Downloading \"${filename}\": `;\n",
              "      div.appendChild(label);\n",
              "      const progress = document.createElement('progress');\n",
              "      progress.max = size;\n",
              "      div.appendChild(progress);\n",
              "      document.body.appendChild(div);\n",
              "\n",
              "      const buffers = [];\n",
              "      let downloaded = 0;\n",
              "\n",
              "      const channel = await google.colab.kernel.comms.open(id);\n",
              "      // Send a message to notify the kernel that we're ready.\n",
              "      channel.send({})\n",
              "\n",
              "      for await (const message of channel.messages) {\n",
              "        // Send a message to notify the kernel that we're ready.\n",
              "        channel.send({})\n",
              "        if (message.buffers) {\n",
              "          for (const buffer of message.buffers) {\n",
              "            buffers.push(buffer);\n",
              "            downloaded += buffer.byteLength;\n",
              "            progress.value = downloaded;\n",
              "          }\n",
              "        }\n",
              "      }\n",
              "      const blob = new Blob(buffers, {type: 'application/binary'});\n",
              "      const a = document.createElement('a');\n",
              "      a.href = window.URL.createObjectURL(blob);\n",
              "      a.download = filename;\n",
              "      div.appendChild(a);\n",
              "      a.click();\n",
              "      div.remove();\n",
              "    }\n",
              "  "
            ],
            "text/plain": [
              "<IPython.core.display.Javascript object>"
            ]
          },
          "metadata": {
            "tags": []
          }
        },
        {
          "output_type": "display_data",
          "data": {
            "application/javascript": [
              "download(\"download_561b4935-4174-4cff-84c2-04976f3c49dc\", \"test_x_dog_breed_classification.npy\", 491520128)"
            ],
            "text/plain": [
              "<IPython.core.display.Javascript object>"
            ]
          },
          "metadata": {
            "tags": []
          }
        }
      ]
    },
    {
      "cell_type": "code",
      "metadata": {
        "id": "JfokjAhPemdb"
      },
      "source": [
        "test_x = np.load(\"test_x_dog_breed_classification.npy\")"
      ],
      "execution_count": 28,
      "outputs": []
    },
    {
      "cell_type": "code",
      "metadata": {
        "colab": {
          "base_uri": "https://localhost:8080/"
        },
        "id": "WfJBTm6EuAdb",
        "outputId": "5552cde5-3d55-4d11-81ab-11ef1a387bdd"
      },
      "source": [
        "len(test_x)"
      ],
      "execution_count": 29,
      "outputs": [
        {
          "output_type": "execute_result",
          "data": {
            "text/plain": [
              "10000"
            ]
          },
          "metadata": {
            "tags": []
          },
          "execution_count": 29
        }
      ]
    },
    {
      "cell_type": "markdown",
      "metadata": {
        "id": "q8dey9YqZmQS"
      },
      "source": [
        "Converting labels into numerical data"
      ]
    },
    {
      "cell_type": "code",
      "metadata": {
        "id": "OWDbEF5CyANM"
      },
      "source": [
        "from sklearn.preprocessing import LabelEncoder\n",
        "le = LabelEncoder()\n",
        "labels['breed'] = le.fit_transform(labels['breed'])"
      ],
      "execution_count": 30,
      "outputs": []
    },
    {
      "cell_type": "code",
      "metadata": {
        "colab": {
          "base_uri": "https://localhost:8080/"
        },
        "id": "BgrmJE2-DFQS",
        "outputId": "d4f1028c-4b65-4dd8-dff8-00a4f167c2a8"
      },
      "source": [
        "len(labels['breed'].unique())  # Total no. of breeds"
      ],
      "execution_count": 31,
      "outputs": [
        {
          "output_type": "execute_result",
          "data": {
            "text/plain": [
              "120"
            ]
          },
          "metadata": {
            "tags": []
          },
          "execution_count": 31
        }
      ]
    },
    {
      "cell_type": "code",
      "metadata": {
        "colab": {
          "base_uri": "https://localhost:8080/",
          "height": 311
        },
        "id": "8mpVECI4xFzJ",
        "outputId": "b1f936b4-528b-4c03-ff7c-839de3fef9e7"
      },
      "source": [
        "import pylab as pl\n",
        "from pandas import *\n",
        "\n",
        "histo_survived = labels.hist(bins=120)\n",
        "pl.title(\"Histogram of Breeds\")\n",
        "pl.xlabel(\"Breed\")\n",
        "pl.ylabel(\"No. of samples\")"
      ],
      "execution_count": 32,
      "outputs": [
        {
          "output_type": "execute_result",
          "data": {
            "text/plain": [
              "Text(0, 0.5, 'No. of samples')"
            ]
          },
          "metadata": {
            "tags": []
          },
          "execution_count": 32
        },
        {
          "output_type": "display_data",
          "data": {
            "image/png": "[encoded data removed]",
            "text/plain": [
              "<Figure size 432x288 with 1 Axes>"
            ]
          },
          "metadata": {
            "tags": [],
            "needs_background": "light"
          }
        }
      ]
    },
    {
      "cell_type": "code",
      "metadata": {
        "colab": {
          "base_uri": "https://localhost:8080/",
          "height": 200
        },
        "id": "s7WzERlYAKyo",
        "outputId": "61cbdff4-e064-42c5-f3fd-d7c88ae2dd7a"
      },
      "source": [
        "labels.head()"
      ],
      "execution_count": 33,
      "outputs": [
        {
          "output_type": "execute_result",
          "data": {
            "text/html": [
              "<div>\n",
              "<style scoped>\n",
              "    .dataframe tbody tr th:only-of-type {\n",
              "        vertical-align: middle;\n",
              "    }\n",
              "\n",
              "    .dataframe tbody tr th {\n",
              "        vertical-align: top;\n",
              "    }\n",
              "\n",
              "    .dataframe thead th {\n",
              "        text-align: right;\n",
              "    }\n",
              "</style>\n",
              "<table border=\"1\" class=\"dataframe\">\n",
              "  <thead>\n",
              "    <tr style=\"text-align: right;\">\n",
              "      <th></th>\n",
              "      <th>id</th>\n",
              "      <th>breed</th>\n",
              "    </tr>\n",
              "  </thead>\n",
              "  <tbody>\n",
              "    <tr>\n",
              "      <th>0</th>\n",
              "      <td>000bec180eb18c7604dcecc8fe0dba07</td>\n",
              "      <td>19</td>\n",
              "    </tr>\n",
              "    <tr>\n",
              "      <th>1</th>\n",
              "      <td>001513dfcb2ffafc82cccf4d8bbaba97</td>\n",
              "      <td>37</td>\n",
              "    </tr>\n",
              "    <tr>\n",
              "      <th>2</th>\n",
              "      <td>001cdf01b096e06d78e9e5112d419397</td>\n",
              "      <td>85</td>\n",
              "    </tr>\n",
              "    <tr>\n",
              "      <th>3</th>\n",
              "      <td>00214f311d5d2247d5dfe4fe24b2303d</td>\n",
              "      <td>15</td>\n",
              "    </tr>\n",
              "    <tr>\n",
              "      <th>4</th>\n",
              "      <td>0021f9ceb3235effd7fcde7f7538ed62</td>\n",
              "      <td>49</td>\n",
              "    </tr>\n",
              "  </tbody>\n",
              "</table>\n",
              "</div>"
            ],
            "text/plain": [
              "                                 id  breed\n",
              "0  000bec180eb18c7604dcecc8fe0dba07     19\n",
              "1  001513dfcb2ffafc82cccf4d8bbaba97     37\n",
              "2  001cdf01b096e06d78e9e5112d419397     85\n",
              "3  00214f311d5d2247d5dfe4fe24b2303d     15\n",
              "4  0021f9ceb3235effd7fcde7f7538ed62     49"
            ]
          },
          "metadata": {
            "tags": []
          },
          "execution_count": 33
        }
      ]
    },
    {
      "cell_type": "markdown",
      "metadata": {
        "id": "inr4Y-QLLCB2"
      },
      "source": [
        "### Converting labels into Categorical data"
      ]
    },
    {
      "cell_type": "code",
      "metadata": {
        "id": "mbbX_Yrq-yCf"
      },
      "source": [
        "y = labels['breed'][:10000].values\n",
        "y_act = y"
      ],
      "execution_count": 34,
      "outputs": []
    },
    {
      "cell_type": "code",
      "metadata": {
        "id": "bcf1cAvG-_rr"
      },
      "source": [
        "y = pd.get_dummies(y)"
      ],
      "execution_count": 35,
      "outputs": []
    },
    {
      "cell_type": "code",
      "metadata": {
        "colab": {
          "base_uri": "https://localhost:8080/",
          "height": 428
        },
        "id": "AAvrDBTb_g4y",
        "outputId": "8edb7c0e-49b1-4f33-ad13-24182c5c57f9"
      },
      "source": [
        "y"
      ],
      "execution_count": 36,
      "outputs": [
        {
          "output_type": "execute_result",
          "data": {
            "text/html": [
              "<div>\n",
              "<style scoped>\n",
              "    .dataframe tbody tr th:only-of-type {\n",
              "        vertical-align: middle;\n",
              "    }\n",
              "\n",
              "    .dataframe tbody tr th {\n",
              "        vertical-align: top;\n",
              "    }\n",
              "\n",
              "    .dataframe thead th {\n",
              "        text-align: right;\n",
              "    }\n",
              "</style>\n",
              "<table border=\"1\" class=\"dataframe\">\n",
              "  <thead>\n",
              "    <tr style=\"text-align: right;\">\n",
              "      <th></th>\n",
              "      <th>0</th>\n",
              "      <th>1</th>\n",
              "      <th>2</th>\n",
              "      <th>3</th>\n",
              "      <th>4</th>\n",
              "      <th>5</th>\n",
              "      <th>6</th>\n",
              "      <th>7</th>\n",
              "      <th>8</th>\n",
              "      <th>9</th>\n",
              "      <th>10</th>\n",
              "      <th>11</th>\n",
              "      <th>12</th>\n",
              "      <th>13</th>\n",
              "      <th>14</th>\n",
              "      <th>15</th>\n",
              "      <th>16</th>\n",
              "      <th>17</th>\n",
              "      <th>18</th>\n",
              "      <th>19</th>\n",
              "      <th>20</th>\n",
              "      <th>21</th>\n",
              "      <th>22</th>\n",
              "      <th>23</th>\n",
              "      <th>24</th>\n",
              "      <th>25</th>\n",
              "      <th>26</th>\n",
              "      <th>27</th>\n",
              "      <th>28</th>\n",
              "      <th>29</th>\n",
              "      <th>30</th>\n",
              "      <th>31</th>\n",
              "      <th>32</th>\n",
              "      <th>33</th>\n",
              "      <th>34</th>\n",
              "      <th>35</th>\n",
              "      <th>36</th>\n",
              "      <th>37</th>\n",
              "      <th>38</th>\n",
              "      <th>39</th>\n",
              "      <th>...</th>\n",
              "      <th>80</th>\n",
              "      <th>81</th>\n",
              "      <th>82</th>\n",
              "      <th>83</th>\n",
              "      <th>84</th>\n",
              "      <th>85</th>\n",
              "      <th>86</th>\n",
              "      <th>87</th>\n",
              "      <th>88</th>\n",
              "      <th>89</th>\n",
              "      <th>90</th>\n",
              "      <th>91</th>\n",
              "      <th>92</th>\n",
              "      <th>93</th>\n",
              "      <th>94</th>\n",
              "      <th>95</th>\n",
              "      <th>96</th>\n",
              "      <th>97</th>\n",
              "      <th>98</th>\n",
              "      <th>99</th>\n",
              "      <th>100</th>\n",
              "      <th>101</th>\n",
              "      <th>102</th>\n",
              "      <th>103</th>\n",
              "      <th>104</th>\n",
              "      <th>105</th>\n",
              "      <th>106</th>\n",
              "      <th>107</th>\n",
              "      <th>108</th>\n",
              "      <th>109</th>\n",
              "      <th>110</th>\n",
              "      <th>111</th>\n",
              "      <th>112</th>\n",
              "      <th>113</th>\n",
              "      <th>114</th>\n",
              "      <th>115</th>\n",
              "      <th>116</th>\n",
              "      <th>117</th>\n",
              "      <th>118</th>\n",
              "      <th>119</th>\n",
              "    </tr>\n",
              "  </thead>\n",
              "  <tbody>\n",
              "    <tr>\n",
              "      <th>0</th>\n",
              "      <td>0</td>\n",
              "      <td>0</td>\n",
              "      <td>0</td>\n",
              "      <td>0</td>\n",
              "      <td>0</td>\n",
              "      <td>0</td>\n",
              "      <td>0</td>\n",
              "      <td>0</td>\n",
              "      <td>0</td>\n",
              "      <td>0</td>\n",
              "      <td>0</td>\n",
              "      <td>0</td>\n",
              "      <td>0</td>\n",
              "      <td>0</td>\n",
              "      <td>0</td>\n",
              "      <td>0</td>\n",
              "      <td>0</td>\n",
              "      <td>0</td>\n",
              "      <td>0</td>\n",
              "      <td>1</td>\n",
              "      <td>0</td>\n",
              "      <td>0</td>\n",
              "      <td>0</td>\n",
              "      <td>0</td>\n",
              "      <td>0</td>\n",
              "      <td>0</td>\n",
              "      <td>0</td>\n",
              "      <td>0</td>\n",
              "      <td>0</td>\n",
              "      <td>0</td>\n",
              "      <td>0</td>\n",
              "      <td>0</td>\n",
              "      <td>0</td>\n",
              "      <td>0</td>\n",
              "      <td>0</td>\n",
              "      <td>0</td>\n",
              "      <td>0</td>\n",
              "      <td>0</td>\n",
              "      <td>0</td>\n",
              "      <td>0</td>\n",
              "      <td>...</td>\n",
              "      <td>0</td>\n",
              "      <td>0</td>\n",
              "      <td>0</td>\n",
              "      <td>0</td>\n",
              "      <td>0</td>\n",
              "      <td>0</td>\n",
              "      <td>0</td>\n",
              "      <td>0</td>\n",
              "      <td>0</td>\n",
              "      <td>0</td>\n",
              "      <td>0</td>\n",
              "      <td>0</td>\n",
              "      <td>0</td>\n",
              "      <td>0</td>\n",
              "      <td>0</td>\n",
              "      <td>0</td>\n",
              "      <td>0</td>\n",
              "      <td>0</td>\n",
              "      <td>0</td>\n",
              "      <td>0</td>\n",
              "      <td>0</td>\n",
              "      <td>0</td>\n",
              "      <td>0</td>\n",
              "      <td>0</td>\n",
              "      <td>0</td>\n",
              "      <td>0</td>\n",
              "      <td>0</td>\n",
              "      <td>0</td>\n",
              "      <td>0</td>\n",
              "      <td>0</td>\n",
              "      <td>0</td>\n",
              "      <td>0</td>\n",
              "      <td>0</td>\n",
              "      <td>0</td>\n",
              "      <td>0</td>\n",
              "      <td>0</td>\n",
              "      <td>0</td>\n",
              "      <td>0</td>\n",
              "      <td>0</td>\n",
              "      <td>0</td>\n",
              "    </tr>\n",
              "    <tr>\n",
              "      <th>1</th>\n",
              "      <td>0</td>\n",
              "      <td>0</td>\n",
              "      <td>0</td>\n",
              "      <td>0</td>\n",
              "      <td>0</td>\n",
              "      <td>0</td>\n",
              "      <td>0</td>\n",
              "      <td>0</td>\n",
              "      <td>0</td>\n",
              "      <td>0</td>\n",
              "      <td>0</td>\n",
              "      <td>0</td>\n",
              "      <td>0</td>\n",
              "      <td>0</td>\n",
              "      <td>0</td>\n",
              "      <td>0</td>\n",
              "      <td>0</td>\n",
              "      <td>0</td>\n",
              "      <td>0</td>\n",
              "      <td>0</td>\n",
              "      <td>0</td>\n",
              "      <td>0</td>\n",
              "      <td>0</td>\n",
              "      <td>0</td>\n",
              "      <td>0</td>\n",
              "      <td>0</td>\n",
              "      <td>0</td>\n",
              "      <td>0</td>\n",
              "      <td>0</td>\n",
              "      <td>0</td>\n",
              "      <td>0</td>\n",
              "      <td>0</td>\n",
              "      <td>0</td>\n",
              "      <td>0</td>\n",
              "      <td>0</td>\n",
              "      <td>0</td>\n",
              "      <td>0</td>\n",
              "      <td>1</td>\n",
              "      <td>0</td>\n",
              "      <td>0</td>\n",
              "      <td>...</td>\n",
              "      <td>0</td>\n",
              "      <td>0</td>\n",
              "      <td>0</td>\n",
              "      <td>0</td>\n",
              "      <td>0</td>\n",
              "      <td>0</td>\n",
              "      <td>0</td>\n",
              "      <td>0</td>\n",
              "      <td>0</td>\n",
              "      <td>0</td>\n",
              "      <td>0</td>\n",
              "      <td>0</td>\n",
              "      <td>0</td>\n",
              "      <td>0</td>\n",
              "      <td>0</td>\n",
              "      <td>0</td>\n",
              "      <td>0</td>\n",
              "      <td>0</td>\n",
              "      <td>0</td>\n",
              "      <td>0</td>\n",
              "      <td>0</td>\n",
              "      <td>0</td>\n",
              "      <td>0</td>\n",
              "      <td>0</td>\n",
              "      <td>0</td>\n",
              "      <td>0</td>\n",
              "      <td>0</td>\n",
              "      <td>0</td>\n",
              "      <td>0</td>\n",
              "      <td>0</td>\n",
              "      <td>0</td>\n",
              "      <td>0</td>\n",
              "      <td>0</td>\n",
              "      <td>0</td>\n",
              "      <td>0</td>\n",
              "      <td>0</td>\n",
              "      <td>0</td>\n",
              "      <td>0</td>\n",
              "      <td>0</td>\n",
              "      <td>0</td>\n",
              "    </tr>\n",
              "    <tr>\n",
              "      <th>2</th>\n",
              "      <td>0</td>\n",
              "      <td>0</td>\n",
              "      <td>0</td>\n",
              "      <td>0</td>\n",
              "      <td>0</td>\n",
              "      <td>0</td>\n",
              "      <td>0</td>\n",
              "      <td>0</td>\n",
              "      <td>0</td>\n",
              "      <td>0</td>\n",
              "      <td>0</td>\n",
              "      <td>0</td>\n",
              "      <td>0</td>\n",
              "      <td>0</td>\n",
              "      <td>0</td>\n",
              "      <td>0</td>\n",
              "      <td>0</td>\n",
              "      <td>0</td>\n",
              "      <td>0</td>\n",
              "      <td>0</td>\n",
              "      <td>0</td>\n",
              "      <td>0</td>\n",
              "      <td>0</td>\n",
              "      <td>0</td>\n",
              "      <td>0</td>\n",
              "      <td>0</td>\n",
              "      <td>0</td>\n",
              "      <td>0</td>\n",
              "      <td>0</td>\n",
              "      <td>0</td>\n",
              "      <td>0</td>\n",
              "      <td>0</td>\n",
              "      <td>0</td>\n",
              "      <td>0</td>\n",
              "      <td>0</td>\n",
              "      <td>0</td>\n",
              "      <td>0</td>\n",
              "      <td>0</td>\n",
              "      <td>0</td>\n",
              "      <td>0</td>\n",
              "      <td>...</td>\n",
              "      <td>0</td>\n",
              "      <td>0</td>\n",
              "      <td>0</td>\n",
              "      <td>0</td>\n",
              "      <td>0</td>\n",
              "      <td>1</td>\n",
              "      <td>0</td>\n",
              "      <td>0</td>\n",
              "      <td>0</td>\n",
              "      <td>0</td>\n",
              "      <td>0</td>\n",
              "      <td>0</td>\n",
              "      <td>0</td>\n",
              "      <td>0</td>\n",
              "      <td>0</td>\n",
              "      <td>0</td>\n",
              "      <td>0</td>\n",
              "      <td>0</td>\n",
              "      <td>0</td>\n",
              "      <td>0</td>\n",
              "      <td>0</td>\n",
              "      <td>0</td>\n",
              "      <td>0</td>\n",
              "      <td>0</td>\n",
              "      <td>0</td>\n",
              "      <td>0</td>\n",
              "      <td>0</td>\n",
              "      <td>0</td>\n",
              "      <td>0</td>\n",
              "      <td>0</td>\n",
              "      <td>0</td>\n",
              "      <td>0</td>\n",
              "      <td>0</td>\n",
              "      <td>0</td>\n",
              "      <td>0</td>\n",
              "      <td>0</td>\n",
              "      <td>0</td>\n",
              "      <td>0</td>\n",
              "      <td>0</td>\n",
              "      <td>0</td>\n",
              "    </tr>\n",
              "    <tr>\n",
              "      <th>3</th>\n",
              "      <td>0</td>\n",
              "      <td>0</td>\n",
              "      <td>0</td>\n",
              "      <td>0</td>\n",
              "      <td>0</td>\n",
              "      <td>0</td>\n",
              "      <td>0</td>\n",
              "      <td>0</td>\n",
              "      <td>0</td>\n",
              "      <td>0</td>\n",
              "      <td>0</td>\n",
              "      <td>0</td>\n",
              "      <td>0</td>\n",
              "      <td>0</td>\n",
              "      <td>0</td>\n",
              "      <td>1</td>\n",
              "      <td>0</td>\n",
              "      <td>0</td>\n",
              "      <td>0</td>\n",
              "      <td>0</td>\n",
              "      <td>0</td>\n",
              "      <td>0</td>\n",
              "      <td>0</td>\n",
              "      <td>0</td>\n",
              "      <td>0</td>\n",
              "      <td>0</td>\n",
              "      <td>0</td>\n",
              "      <td>0</td>\n",
              "      <td>0</td>\n",
              "      <td>0</td>\n",
              "      <td>0</td>\n",
              "      <td>0</td>\n",
              "      <td>0</td>\n",
              "      <td>0</td>\n",
              "      <td>0</td>\n",
              "      <td>0</td>\n",
              "      <td>0</td>\n",
              "      <td>0</td>\n",
              "      <td>0</td>\n",
              "      <td>0</td>\n",
              "      <td>...</td>\n",
              "      <td>0</td>\n",
              "      <td>0</td>\n",
              "      <td>0</td>\n",
              "      <td>0</td>\n",
              "      <td>0</td>\n",
              "      <td>0</td>\n",
              "      <td>0</td>\n",
              "      <td>0</td>\n",
              "      <td>0</td>\n",
              "      <td>0</td>\n",
              "      <td>0</td>\n",
              "      <td>0</td>\n",
              "      <td>0</td>\n",
              "      <td>0</td>\n",
              "      <td>0</td>\n",
              "      <td>0</td>\n",
              "      <td>0</td>\n",
              "      <td>0</td>\n",
              "      <td>0</td>\n",
              "      <td>0</td>\n",
              "      <td>0</td>\n",
              "      <td>0</td>\n",
              "      <td>0</td>\n",
              "      <td>0</td>\n",
              "      <td>0</td>\n",
              "      <td>0</td>\n",
              "      <td>0</td>\n",
              "      <td>0</td>\n",
              "      <td>0</td>\n",
              "      <td>0</td>\n",
              "      <td>0</td>\n",
              "      <td>0</td>\n",
              "      <td>0</td>\n",
              "      <td>0</td>\n",
              "      <td>0</td>\n",
              "      <td>0</td>\n",
              "      <td>0</td>\n",
              "      <td>0</td>\n",
              "      <td>0</td>\n",
              "      <td>0</td>\n",
              "    </tr>\n",
              "    <tr>\n",
              "      <th>4</th>\n",
              "      <td>0</td>\n",
              "      <td>0</td>\n",
              "      <td>0</td>\n",
              "      <td>0</td>\n",
              "      <td>0</td>\n",
              "      <td>0</td>\n",
              "      <td>0</td>\n",
              "      <td>0</td>\n",
              "      <td>0</td>\n",
              "      <td>0</td>\n",
              "      <td>0</td>\n",
              "      <td>0</td>\n",
              "      <td>0</td>\n",
              "      <td>0</td>\n",
              "      <td>0</td>\n",
              "      <td>0</td>\n",
              "      <td>0</td>\n",
              "      <td>0</td>\n",
              "      <td>0</td>\n",
              "      <td>0</td>\n",
              "      <td>0</td>\n",
              "      <td>0</td>\n",
              "      <td>0</td>\n",
              "      <td>0</td>\n",
              "      <td>0</td>\n",
              "      <td>0</td>\n",
              "      <td>0</td>\n",
              "      <td>0</td>\n",
              "      <td>0</td>\n",
              "      <td>0</td>\n",
              "      <td>0</td>\n",
              "      <td>0</td>\n",
              "      <td>0</td>\n",
              "      <td>0</td>\n",
              "      <td>0</td>\n",
              "      <td>0</td>\n",
              "      <td>0</td>\n",
              "      <td>0</td>\n",
              "      <td>0</td>\n",
              "      <td>0</td>\n",
              "      <td>...</td>\n",
              "      <td>0</td>\n",
              "      <td>0</td>\n",
              "      <td>0</td>\n",
              "      <td>0</td>\n",
              "      <td>0</td>\n",
              "      <td>0</td>\n",
              "      <td>0</td>\n",
              "      <td>0</td>\n",
              "      <td>0</td>\n",
              "      <td>0</td>\n",
              "      <td>0</td>\n",
              "      <td>0</td>\n",
              "      <td>0</td>\n",
              "      <td>0</td>\n",
              "      <td>0</td>\n",
              "      <td>0</td>\n",
              "      <td>0</td>\n",
              "      <td>0</td>\n",
              "      <td>0</td>\n",
              "      <td>0</td>\n",
              "      <td>0</td>\n",
              "      <td>0</td>\n",
              "      <td>0</td>\n",
              "      <td>0</td>\n",
              "      <td>0</td>\n",
              "      <td>0</td>\n",
              "      <td>0</td>\n",
              "      <td>0</td>\n",
              "      <td>0</td>\n",
              "      <td>0</td>\n",
              "      <td>0</td>\n",
              "      <td>0</td>\n",
              "      <td>0</td>\n",
              "      <td>0</td>\n",
              "      <td>0</td>\n",
              "      <td>0</td>\n",
              "      <td>0</td>\n",
              "      <td>0</td>\n",
              "      <td>0</td>\n",
              "      <td>0</td>\n",
              "    </tr>\n",
              "    <tr>\n",
              "      <th>...</th>\n",
              "      <td>...</td>\n",
              "      <td>...</td>\n",
              "      <td>...</td>\n",
              "      <td>...</td>\n",
              "      <td>...</td>\n",
              "      <td>...</td>\n",
              "      <td>...</td>\n",
              "      <td>...</td>\n",
              "      <td>...</td>\n",
              "      <td>...</td>\n",
              "      <td>...</td>\n",
              "      <td>...</td>\n",
              "      <td>...</td>\n",
              "      <td>...</td>\n",
              "      <td>...</td>\n",
              "      <td>...</td>\n",
              "      <td>...</td>\n",
              "      <td>...</td>\n",
              "      <td>...</td>\n",
              "      <td>...</td>\n",
              "      <td>...</td>\n",
              "      <td>...</td>\n",
              "      <td>...</td>\n",
              "      <td>...</td>\n",
              "      <td>...</td>\n",
              "      <td>...</td>\n",
              "      <td>...</td>\n",
              "      <td>...</td>\n",
              "      <td>...</td>\n",
              "      <td>...</td>\n",
              "      <td>...</td>\n",
              "      <td>...</td>\n",
              "      <td>...</td>\n",
              "      <td>...</td>\n",
              "      <td>...</td>\n",
              "      <td>...</td>\n",
              "      <td>...</td>\n",
              "      <td>...</td>\n",
              "      <td>...</td>\n",
              "      <td>...</td>\n",
              "      <td>...</td>\n",
              "      <td>...</td>\n",
              "      <td>...</td>\n",
              "      <td>...</td>\n",
              "      <td>...</td>\n",
              "      <td>...</td>\n",
              "      <td>...</td>\n",
              "      <td>...</td>\n",
              "      <td>...</td>\n",
              "      <td>...</td>\n",
              "      <td>...</td>\n",
              "      <td>...</td>\n",
              "      <td>...</td>\n",
              "      <td>...</td>\n",
              "      <td>...</td>\n",
              "      <td>...</td>\n",
              "      <td>...</td>\n",
              "      <td>...</td>\n",
              "      <td>...</td>\n",
              "      <td>...</td>\n",
              "      <td>...</td>\n",
              "      <td>...</td>\n",
              "      <td>...</td>\n",
              "      <td>...</td>\n",
              "      <td>...</td>\n",
              "      <td>...</td>\n",
              "      <td>...</td>\n",
              "      <td>...</td>\n",
              "      <td>...</td>\n",
              "      <td>...</td>\n",
              "      <td>...</td>\n",
              "      <td>...</td>\n",
              "      <td>...</td>\n",
              "      <td>...</td>\n",
              "      <td>...</td>\n",
              "      <td>...</td>\n",
              "      <td>...</td>\n",
              "      <td>...</td>\n",
              "      <td>...</td>\n",
              "      <td>...</td>\n",
              "      <td>...</td>\n",
              "    </tr>\n",
              "    <tr>\n",
              "      <th>9995</th>\n",
              "      <td>0</td>\n",
              "      <td>0</td>\n",
              "      <td>0</td>\n",
              "      <td>0</td>\n",
              "      <td>0</td>\n",
              "      <td>0</td>\n",
              "      <td>0</td>\n",
              "      <td>0</td>\n",
              "      <td>0</td>\n",
              "      <td>0</td>\n",
              "      <td>0</td>\n",
              "      <td>0</td>\n",
              "      <td>0</td>\n",
              "      <td>0</td>\n",
              "      <td>0</td>\n",
              "      <td>0</td>\n",
              "      <td>0</td>\n",
              "      <td>0</td>\n",
              "      <td>0</td>\n",
              "      <td>0</td>\n",
              "      <td>0</td>\n",
              "      <td>0</td>\n",
              "      <td>0</td>\n",
              "      <td>0</td>\n",
              "      <td>0</td>\n",
              "      <td>0</td>\n",
              "      <td>0</td>\n",
              "      <td>0</td>\n",
              "      <td>0</td>\n",
              "      <td>0</td>\n",
              "      <td>0</td>\n",
              "      <td>0</td>\n",
              "      <td>0</td>\n",
              "      <td>0</td>\n",
              "      <td>0</td>\n",
              "      <td>0</td>\n",
              "      <td>0</td>\n",
              "      <td>0</td>\n",
              "      <td>0</td>\n",
              "      <td>0</td>\n",
              "      <td>...</td>\n",
              "      <td>0</td>\n",
              "      <td>0</td>\n",
              "      <td>0</td>\n",
              "      <td>0</td>\n",
              "      <td>0</td>\n",
              "      <td>0</td>\n",
              "      <td>0</td>\n",
              "      <td>0</td>\n",
              "      <td>0</td>\n",
              "      <td>0</td>\n",
              "      <td>0</td>\n",
              "      <td>0</td>\n",
              "      <td>0</td>\n",
              "      <td>0</td>\n",
              "      <td>0</td>\n",
              "      <td>0</td>\n",
              "      <td>0</td>\n",
              "      <td>0</td>\n",
              "      <td>0</td>\n",
              "      <td>0</td>\n",
              "      <td>0</td>\n",
              "      <td>0</td>\n",
              "      <td>0</td>\n",
              "      <td>0</td>\n",
              "      <td>0</td>\n",
              "      <td>0</td>\n",
              "      <td>0</td>\n",
              "      <td>0</td>\n",
              "      <td>0</td>\n",
              "      <td>0</td>\n",
              "      <td>0</td>\n",
              "      <td>0</td>\n",
              "      <td>0</td>\n",
              "      <td>0</td>\n",
              "      <td>0</td>\n",
              "      <td>0</td>\n",
              "      <td>0</td>\n",
              "      <td>0</td>\n",
              "      <td>0</td>\n",
              "      <td>0</td>\n",
              "    </tr>\n",
              "    <tr>\n",
              "      <th>9996</th>\n",
              "      <td>0</td>\n",
              "      <td>0</td>\n",
              "      <td>0</td>\n",
              "      <td>0</td>\n",
              "      <td>0</td>\n",
              "      <td>0</td>\n",
              "      <td>0</td>\n",
              "      <td>0</td>\n",
              "      <td>0</td>\n",
              "      <td>0</td>\n",
              "      <td>0</td>\n",
              "      <td>0</td>\n",
              "      <td>0</td>\n",
              "      <td>0</td>\n",
              "      <td>0</td>\n",
              "      <td>0</td>\n",
              "      <td>0</td>\n",
              "      <td>0</td>\n",
              "      <td>0</td>\n",
              "      <td>0</td>\n",
              "      <td>0</td>\n",
              "      <td>0</td>\n",
              "      <td>0</td>\n",
              "      <td>0</td>\n",
              "      <td>0</td>\n",
              "      <td>0</td>\n",
              "      <td>0</td>\n",
              "      <td>0</td>\n",
              "      <td>0</td>\n",
              "      <td>0</td>\n",
              "      <td>0</td>\n",
              "      <td>0</td>\n",
              "      <td>0</td>\n",
              "      <td>0</td>\n",
              "      <td>0</td>\n",
              "      <td>0</td>\n",
              "      <td>0</td>\n",
              "      <td>0</td>\n",
              "      <td>0</td>\n",
              "      <td>0</td>\n",
              "      <td>...</td>\n",
              "      <td>0</td>\n",
              "      <td>0</td>\n",
              "      <td>0</td>\n",
              "      <td>0</td>\n",
              "      <td>0</td>\n",
              "      <td>0</td>\n",
              "      <td>0</td>\n",
              "      <td>0</td>\n",
              "      <td>0</td>\n",
              "      <td>0</td>\n",
              "      <td>0</td>\n",
              "      <td>0</td>\n",
              "      <td>0</td>\n",
              "      <td>0</td>\n",
              "      <td>0</td>\n",
              "      <td>0</td>\n",
              "      <td>0</td>\n",
              "      <td>0</td>\n",
              "      <td>0</td>\n",
              "      <td>0</td>\n",
              "      <td>0</td>\n",
              "      <td>0</td>\n",
              "      <td>0</td>\n",
              "      <td>0</td>\n",
              "      <td>0</td>\n",
              "      <td>0</td>\n",
              "      <td>0</td>\n",
              "      <td>0</td>\n",
              "      <td>0</td>\n",
              "      <td>0</td>\n",
              "      <td>0</td>\n",
              "      <td>0</td>\n",
              "      <td>0</td>\n",
              "      <td>0</td>\n",
              "      <td>0</td>\n",
              "      <td>0</td>\n",
              "      <td>0</td>\n",
              "      <td>0</td>\n",
              "      <td>0</td>\n",
              "      <td>0</td>\n",
              "    </tr>\n",
              "    <tr>\n",
              "      <th>9997</th>\n",
              "      <td>0</td>\n",
              "      <td>0</td>\n",
              "      <td>0</td>\n",
              "      <td>0</td>\n",
              "      <td>0</td>\n",
              "      <td>0</td>\n",
              "      <td>0</td>\n",
              "      <td>0</td>\n",
              "      <td>0</td>\n",
              "      <td>0</td>\n",
              "      <td>0</td>\n",
              "      <td>0</td>\n",
              "      <td>0</td>\n",
              "      <td>0</td>\n",
              "      <td>0</td>\n",
              "      <td>0</td>\n",
              "      <td>0</td>\n",
              "      <td>0</td>\n",
              "      <td>0</td>\n",
              "      <td>0</td>\n",
              "      <td>0</td>\n",
              "      <td>0</td>\n",
              "      <td>0</td>\n",
              "      <td>0</td>\n",
              "      <td>0</td>\n",
              "      <td>0</td>\n",
              "      <td>0</td>\n",
              "      <td>0</td>\n",
              "      <td>0</td>\n",
              "      <td>0</td>\n",
              "      <td>0</td>\n",
              "      <td>0</td>\n",
              "      <td>0</td>\n",
              "      <td>0</td>\n",
              "      <td>0</td>\n",
              "      <td>0</td>\n",
              "      <td>0</td>\n",
              "      <td>0</td>\n",
              "      <td>0</td>\n",
              "      <td>0</td>\n",
              "      <td>...</td>\n",
              "      <td>0</td>\n",
              "      <td>0</td>\n",
              "      <td>0</td>\n",
              "      <td>0</td>\n",
              "      <td>0</td>\n",
              "      <td>0</td>\n",
              "      <td>0</td>\n",
              "      <td>0</td>\n",
              "      <td>0</td>\n",
              "      <td>0</td>\n",
              "      <td>0</td>\n",
              "      <td>1</td>\n",
              "      <td>0</td>\n",
              "      <td>0</td>\n",
              "      <td>0</td>\n",
              "      <td>0</td>\n",
              "      <td>0</td>\n",
              "      <td>0</td>\n",
              "      <td>0</td>\n",
              "      <td>0</td>\n",
              "      <td>0</td>\n",
              "      <td>0</td>\n",
              "      <td>0</td>\n",
              "      <td>0</td>\n",
              "      <td>0</td>\n",
              "      <td>0</td>\n",
              "      <td>0</td>\n",
              "      <td>0</td>\n",
              "      <td>0</td>\n",
              "      <td>0</td>\n",
              "      <td>0</td>\n",
              "      <td>0</td>\n",
              "      <td>0</td>\n",
              "      <td>0</td>\n",
              "      <td>0</td>\n",
              "      <td>0</td>\n",
              "      <td>0</td>\n",
              "      <td>0</td>\n",
              "      <td>0</td>\n",
              "      <td>0</td>\n",
              "    </tr>\n",
              "    <tr>\n",
              "      <th>9998</th>\n",
              "      <td>0</td>\n",
              "      <td>0</td>\n",
              "      <td>0</td>\n",
              "      <td>0</td>\n",
              "      <td>0</td>\n",
              "      <td>0</td>\n",
              "      <td>0</td>\n",
              "      <td>0</td>\n",
              "      <td>0</td>\n",
              "      <td>0</td>\n",
              "      <td>1</td>\n",
              "      <td>0</td>\n",
              "      <td>0</td>\n",
              "      <td>0</td>\n",
              "      <td>0</td>\n",
              "      <td>0</td>\n",
              "      <td>0</td>\n",
              "      <td>0</td>\n",
              "      <td>0</td>\n",
              "      <td>0</td>\n",
              "      <td>0</td>\n",
              "      <td>0</td>\n",
              "      <td>0</td>\n",
              "      <td>0</td>\n",
              "      <td>0</td>\n",
              "      <td>0</td>\n",
              "      <td>0</td>\n",
              "      <td>0</td>\n",
              "      <td>0</td>\n",
              "      <td>0</td>\n",
              "      <td>0</td>\n",
              "      <td>0</td>\n",
              "      <td>0</td>\n",
              "      <td>0</td>\n",
              "      <td>0</td>\n",
              "      <td>0</td>\n",
              "      <td>0</td>\n",
              "      <td>0</td>\n",
              "      <td>0</td>\n",
              "      <td>0</td>\n",
              "      <td>...</td>\n",
              "      <td>0</td>\n",
              "      <td>0</td>\n",
              "      <td>0</td>\n",
              "      <td>0</td>\n",
              "      <td>0</td>\n",
              "      <td>0</td>\n",
              "      <td>0</td>\n",
              "      <td>0</td>\n",
              "      <td>0</td>\n",
              "      <td>0</td>\n",
              "      <td>0</td>\n",
              "      <td>0</td>\n",
              "      <td>0</td>\n",
              "      <td>0</td>\n",
              "      <td>0</td>\n",
              "      <td>0</td>\n",
              "      <td>0</td>\n",
              "      <td>0</td>\n",
              "      <td>0</td>\n",
              "      <td>0</td>\n",
              "      <td>0</td>\n",
              "      <td>0</td>\n",
              "      <td>0</td>\n",
              "      <td>0</td>\n",
              "      <td>0</td>\n",
              "      <td>0</td>\n",
              "      <td>0</td>\n",
              "      <td>0</td>\n",
              "      <td>0</td>\n",
              "      <td>0</td>\n",
              "      <td>0</td>\n",
              "      <td>0</td>\n",
              "      <td>0</td>\n",
              "      <td>0</td>\n",
              "      <td>0</td>\n",
              "      <td>0</td>\n",
              "      <td>0</td>\n",
              "      <td>0</td>\n",
              "      <td>0</td>\n",
              "      <td>0</td>\n",
              "    </tr>\n",
              "    <tr>\n",
              "      <th>9999</th>\n",
              "      <td>0</td>\n",
              "      <td>0</td>\n",
              "      <td>0</td>\n",
              "      <td>0</td>\n",
              "      <td>0</td>\n",
              "      <td>0</td>\n",
              "      <td>0</td>\n",
              "      <td>0</td>\n",
              "      <td>0</td>\n",
              "      <td>0</td>\n",
              "      <td>0</td>\n",
              "      <td>0</td>\n",
              "      <td>0</td>\n",
              "      <td>0</td>\n",
              "      <td>0</td>\n",
              "      <td>0</td>\n",
              "      <td>0</td>\n",
              "      <td>0</td>\n",
              "      <td>0</td>\n",
              "      <td>0</td>\n",
              "      <td>0</td>\n",
              "      <td>0</td>\n",
              "      <td>0</td>\n",
              "      <td>0</td>\n",
              "      <td>0</td>\n",
              "      <td>0</td>\n",
              "      <td>0</td>\n",
              "      <td>0</td>\n",
              "      <td>0</td>\n",
              "      <td>0</td>\n",
              "      <td>0</td>\n",
              "      <td>0</td>\n",
              "      <td>0</td>\n",
              "      <td>0</td>\n",
              "      <td>0</td>\n",
              "      <td>0</td>\n",
              "      <td>0</td>\n",
              "      <td>0</td>\n",
              "      <td>0</td>\n",
              "      <td>0</td>\n",
              "      <td>...</td>\n",
              "      <td>0</td>\n",
              "      <td>0</td>\n",
              "      <td>0</td>\n",
              "      <td>0</td>\n",
              "      <td>0</td>\n",
              "      <td>0</td>\n",
              "      <td>0</td>\n",
              "      <td>0</td>\n",
              "      <td>0</td>\n",
              "      <td>0</td>\n",
              "      <td>0</td>\n",
              "      <td>0</td>\n",
              "      <td>0</td>\n",
              "      <td>0</td>\n",
              "      <td>1</td>\n",
              "      <td>0</td>\n",
              "      <td>0</td>\n",
              "      <td>0</td>\n",
              "      <td>0</td>\n",
              "      <td>0</td>\n",
              "      <td>0</td>\n",
              "      <td>0</td>\n",
              "      <td>0</td>\n",
              "      <td>0</td>\n",
              "      <td>0</td>\n",
              "      <td>0</td>\n",
              "      <td>0</td>\n",
              "      <td>0</td>\n",
              "      <td>0</td>\n",
              "      <td>0</td>\n",
              "      <td>0</td>\n",
              "      <td>0</td>\n",
              "      <td>0</td>\n",
              "      <td>0</td>\n",
              "      <td>0</td>\n",
              "      <td>0</td>\n",
              "      <td>0</td>\n",
              "      <td>0</td>\n",
              "      <td>0</td>\n",
              "      <td>0</td>\n",
              "    </tr>\n",
              "  </tbody>\n",
              "</table>\n",
              "<p>10000 rows × 120 columns</p>\n",
              "</div>"
            ],
            "text/plain": [
              "      0    1    2    3    4    5    6    ...  113  114  115  116  117  118  119\n",
              "0       0    0    0    0    0    0    0  ...    0    0    0    0    0    0    0\n",
              "1       0    0    0    0    0    0    0  ...    0    0    0    0    0    0    0\n",
              "2       0    0    0    0    0    0    0  ...    0    0    0    0    0    0    0\n",
              "3       0    0    0    0    0    0    0  ...    0    0    0    0    0    0    0\n",
              "4       0    0    0    0    0    0    0  ...    0    0    0    0    0    0    0\n",
              "...   ...  ...  ...  ...  ...  ...  ...  ...  ...  ...  ...  ...  ...  ...  ...\n",
              "9995    0    0    0    0    0    0    0  ...    0    0    0    0    0    0    0\n",
              "9996    0    0    0    0    0    0    0  ...    0    0    0    0    0    0    0\n",
              "9997    0    0    0    0    0    0    0  ...    0    0    0    0    0    0    0\n",
              "9998    0    0    0    0    0    0    0  ...    0    0    0    0    0    0    0\n",
              "9999    0    0    0    0    0    0    0  ...    0    0    0    0    0    0    0\n",
              "\n",
              "[10000 rows x 120 columns]"
            ]
          },
          "metadata": {
            "tags": []
          },
          "execution_count": 36
        }
      ]
    },
    {
      "cell_type": "code",
      "metadata": {
        "id": "LrciEiPr_qog"
      },
      "source": [
        "y = y.values"
      ],
      "execution_count": 37,
      "outputs": []
    },
    {
      "cell_type": "code",
      "metadata": {
        "colab": {
          "base_uri": "https://localhost:8080/"
        },
        "id": "iLSDTo37_sjy",
        "outputId": "74722f41-9f83-4659-e3d0-34a1e09cfddb"
      },
      "source": [
        "y[0]"
      ],
      "execution_count": 38,
      "outputs": [
        {
          "output_type": "execute_result",
          "data": {
            "text/plain": [
              "array([0, 0, 0, 0, 0, 0, 0, 0, 0, 0, 0, 0, 0, 0, 0, 0, 0, 0, 0, 1, 0, 0,\n",
              "       0, 0, 0, 0, 0, 0, 0, 0, 0, 0, 0, 0, 0, 0, 0, 0, 0, 0, 0, 0, 0, 0,\n",
              "       0, 0, 0, 0, 0, 0, 0, 0, 0, 0, 0, 0, 0, 0, 0, 0, 0, 0, 0, 0, 0, 0,\n",
              "       0, 0, 0, 0, 0, 0, 0, 0, 0, 0, 0, 0, 0, 0, 0, 0, 0, 0, 0, 0, 0, 0,\n",
              "       0, 0, 0, 0, 0, 0, 0, 0, 0, 0, 0, 0, 0, 0, 0, 0, 0, 0, 0, 0, 0, 0,\n",
              "       0, 0, 0, 0, 0, 0, 0, 0, 0, 0], dtype=uint8)"
            ]
          },
          "metadata": {
            "tags": []
          },
          "execution_count": 38
        }
      ]
    },
    {
      "cell_type": "code",
      "metadata": {
        "colab": {
          "base_uri": "https://localhost:8080/"
        },
        "id": "-h22QaYPKlIs",
        "outputId": "dca95c94-d0b1-41e1-99f5-d8b9c81e0b8a"
      },
      "source": [
        "train_x[0].shape, y[0].shape"
      ],
      "execution_count": 39,
      "outputs": [
        {
          "output_type": "execute_result",
          "data": {
            "text/plain": [
              "((128, 128, 3), (120,))"
            ]
          },
          "metadata": {
            "tags": []
          },
          "execution_count": 39
        }
      ]
    },
    {
      "cell_type": "code",
      "metadata": {
        "colab": {
          "base_uri": "https://localhost:8080/"
        },
        "id": "yAdgHpwFKwOc",
        "outputId": "94b62927-aaf7-44fb-8273-7e103cebd660"
      },
      "source": [
        "len(train_x), len(y)"
      ],
      "execution_count": 40,
      "outputs": [
        {
          "output_type": "execute_result",
          "data": {
            "text/plain": [
              "(10000, 10000)"
            ]
          },
          "metadata": {
            "tags": []
          },
          "execution_count": 40
        }
      ]
    },
    {
      "cell_type": "markdown",
      "metadata": {
        "id": "A16qmlg0LQ9e"
      },
      "source": [
        "### Custom Model"
      ]
    },
    {
      "cell_type": "code",
      "metadata": {
        "colab": {
          "base_uri": "https://localhost:8080/"
        },
        "id": "sTgUQo6gz3IM",
        "outputId": "59fc0902-8ea6-43a7-dc93-917951c740a6"
      },
      "source": [
        "from tensorflow import keras\n",
        " \n",
        "model = keras.Sequential([                                                    \n",
        "                          keras.layers.Conv2D(128, (3,3), activation='relu', input_shape=(128,128,3)),\n",
        "                          keras.layers.MaxPool2D(2,2),\n",
        "                          keras.layers.Conv2D(64, (3,3), activation='relu'),\n",
        "                          keras.layers.MaxPool2D(2,2),\n",
        "                          keras.layers.Conv2D(32, (3,3), activation='relu'),\n",
        "                          # keras.layers.MaxPool2D(2, 2),\n",
        "                          keras.layers.Flatten(),\n",
        "                          keras.layers.Dense(1024, activation='relu'),\n",
        "                          # keras.layers.Dropout(0.5),                                              # Here 50% networks will be broken\n",
        "                          keras.layers.Dense(512, activation='relu'),\n",
        "                          keras.layers.Dense(256, activation='relu'),\n",
        "                          keras.layers.Dense(120, activation='softmax')\n",
        "])\n",
        "\n",
        "\n",
        "model.compile(optimizer='adam',\n",
        "              loss = keras.losses.CategoricalCrossentropy(),\n",
        "              metrics=['accuracy'])\n",
        "\n",
        "model.fit(train_x, y, epochs=30)"
      ],
      "execution_count": 56,
      "outputs": [
        {
          "output_type": "stream",
          "text": [
            "Epoch 1/30\n",
            "313/313 [==============================] - 12s 37ms/step - loss: 5.7198 - accuracy: 0.0080\n",
            "Epoch 2/30\n",
            "313/313 [==============================] - 11s 37ms/step - loss: 4.7711 - accuracy: 0.0150\n",
            "Epoch 3/30\n",
            "313/313 [==============================] - 11s 36ms/step - loss: 4.6925 - accuracy: 0.0289\n",
            "Epoch 4/30\n",
            "313/313 [==============================] - 11s 36ms/step - loss: 4.4702 - accuracy: 0.0675\n",
            "Epoch 5/30\n",
            "313/313 [==============================] - 11s 36ms/step - loss: 4.0773 - accuracy: 0.1408\n",
            "Epoch 6/30\n",
            "313/313 [==============================] - 11s 36ms/step - loss: 3.6364 - accuracy: 0.2343\n",
            "Epoch 7/30\n",
            "313/313 [==============================] - 11s 36ms/step - loss: 3.1769 - accuracy: 0.3249\n",
            "Epoch 8/30\n",
            "313/313 [==============================] - 11s 36ms/step - loss: 2.8698 - accuracy: 0.3962\n",
            "Epoch 9/30\n",
            "313/313 [==============================] - 11s 36ms/step - loss: 2.5139 - accuracy: 0.4689\n",
            "Epoch 10/30\n",
            "313/313 [==============================] - 11s 36ms/step - loss: 2.2505 - accuracy: 0.5221\n",
            "Epoch 11/30\n",
            "313/313 [==============================] - 11s 36ms/step - loss: 2.0144 - accuracy: 0.5684\n",
            "Epoch 12/30\n",
            "313/313 [==============================] - 11s 36ms/step - loss: 1.8430 - accuracy: 0.6069\n",
            "Epoch 13/30\n",
            "313/313 [==============================] - 11s 36ms/step - loss: 1.7028 - accuracy: 0.6348\n",
            "Epoch 14/30\n",
            "313/313 [==============================] - 11s 36ms/step - loss: 1.6501 - accuracy: 0.6513\n",
            "Epoch 15/30\n",
            "313/313 [==============================] - 11s 36ms/step - loss: 1.4666 - accuracy: 0.6905\n",
            "Epoch 16/30\n",
            "313/313 [==============================] - 11s 36ms/step - loss: 1.3483 - accuracy: 0.7131\n",
            "Epoch 17/30\n",
            "313/313 [==============================] - 11s 36ms/step - loss: 1.2273 - accuracy: 0.7397\n",
            "Epoch 18/30\n",
            "313/313 [==============================] - 11s 35ms/step - loss: 1.1102 - accuracy: 0.7608\n",
            "Epoch 19/30\n",
            "313/313 [==============================] - 11s 35ms/step - loss: 1.1480 - accuracy: 0.7581\n",
            "Epoch 20/30\n",
            "313/313 [==============================] - 11s 36ms/step - loss: 1.0030 - accuracy: 0.7844\n",
            "Epoch 21/30\n",
            "313/313 [==============================] - 11s 36ms/step - loss: 0.9572 - accuracy: 0.8018\n",
            "Epoch 22/30\n",
            "313/313 [==============================] - 11s 36ms/step - loss: 0.8315 - accuracy: 0.8274\n",
            "Epoch 23/30\n",
            "313/313 [==============================] - 11s 36ms/step - loss: 0.7435 - accuracy: 0.8419\n",
            "Epoch 24/30\n",
            "313/313 [==============================] - 11s 35ms/step - loss: 0.6686 - accuracy: 0.8572\n",
            "Epoch 25/30\n",
            "313/313 [==============================] - 11s 35ms/step - loss: 0.6553 - accuracy: 0.8629\n",
            "Epoch 26/30\n",
            "313/313 [==============================] - 11s 35ms/step - loss: 0.5882 - accuracy: 0.8747\n",
            "Epoch 27/30\n",
            "313/313 [==============================] - 11s 35ms/step - loss: 0.5482 - accuracy: 0.8868\n",
            "Epoch 28/30\n",
            "313/313 [==============================] - 11s 35ms/step - loss: 0.4882 - accuracy: 0.8950\n",
            "Epoch 29/30\n",
            "313/313 [==============================] - 11s 35ms/step - loss: 0.5010 - accuracy: 0.8908\n",
            "Epoch 30/30\n",
            "313/313 [==============================] - 11s 35ms/step - loss: 0.4867 - accuracy: 0.8977\n"
          ],
          "name": "stdout"
        },
        {
          "output_type": "execute_result",
          "data": {
            "text/plain": [
              "<tensorflow.python.keras.callbacks.History at 0x7f742c3397d0>"
            ]
          },
          "metadata": {
            "tags": []
          },
          "execution_count": 56
        }
      ]
    },
    {
      "cell_type": "code",
      "metadata": {
        "colab": {
          "base_uri": "https://localhost:8080/"
        },
        "id": "jVtmJfUWonhZ",
        "outputId": "6edda923-20ef-4386-8d20-9a38377e3b0e"
      },
      "source": [
        "%cd .."
      ],
      "execution_count": 42,
      "outputs": [
        {
          "output_type": "stream",
          "text": [
            "/content/drive/My Drive/DATASETS/dog-breed-identification\n"
          ],
          "name": "stdout"
        }
      ]
    },
    {
      "cell_type": "code",
      "metadata": {
        "colab": {
          "base_uri": "https://localhost:8080/",
          "height": 17
        },
        "id": "qK4Hk0Amb10y",
        "outputId": "c26c4b9e-c742-4271-e448-ee2271f70082"
      },
      "source": [
        "model.save('dogbreedmodel.h5')\n",
        "\n",
        "files.download('dogbreedmodel.h5')"
      ],
      "execution_count": 59,
      "outputs": [
        {
          "output_type": "display_data",
          "data": {
            "application/javascript": [
              "\n",
              "    async function download(id, filename, size) {\n",
              "      if (!google.colab.kernel.accessAllowed) {\n",
              "        return;\n",
              "      }\n",
              "      const div = document.createElement('div');\n",
              "      const label = document.createElement('label');\n",
              "      label.textContent = `Downloading \"${filename}\": `;\n",
              "      div.appendChild(label);\n",
              "      const progress = document.createElement('progress');\n",
              "      progress.max = size;\n",
              "      div.appendChild(progress);\n",
              "      document.body.appendChild(div);\n",
              "\n",
              "      const buffers = [];\n",
              "      let downloaded = 0;\n",
              "\n",
              "      const channel = await google.colab.kernel.comms.open(id);\n",
              "      // Send a message to notify the kernel that we're ready.\n",
              "      channel.send({})\n",
              "\n",
              "      for await (const message of channel.messages) {\n",
              "        // Send a message to notify the kernel that we're ready.\n",
              "        channel.send({})\n",
              "        if (message.buffers) {\n",
              "          for (const buffer of message.buffers) {\n",
              "            buffers.push(buffer);\n",
              "            downloaded += buffer.byteLength;\n",
              "            progress.value = downloaded;\n",
              "          }\n",
              "        }\n",
              "      }\n",
              "      const blob = new Blob(buffers, {type: 'application/binary'});\n",
              "      const a = document.createElement('a');\n",
              "      a.href = window.URL.createObjectURL(blob);\n",
              "      a.download = filename;\n",
              "      div.appendChild(a);\n",
              "      a.click();\n",
              "      div.remove();\n",
              "    }\n",
              "  "
            ],
            "text/plain": [
              "<IPython.core.display.Javascript object>"
            ]
          },
          "metadata": {
            "tags": []
          }
        },
        {
          "output_type": "display_data",
          "data": {
            "application/javascript": [
              "download(\"download_c3f8cc64-7712-46e8-91e4-7481ade1b2d2\", \"dogbreedmodel.h5\", 317756000)"
            ],
            "text/plain": [
              "<IPython.core.display.Javascript object>"
            ]
          },
          "metadata": {
            "tags": []
          }
        }
      ]
    },
    {
      "cell_type": "code",
      "metadata": {
        "id": "L2zFAGe3FxWq"
      },
      "source": [
        "tmp = train_x[0]\n",
        "tmp = tmp.reshape(-1, 128, 128, 3)"
      ],
      "execution_count": 44,
      "outputs": []
    },
    {
      "cell_type": "code",
      "metadata": {
        "colab": {
          "base_uri": "https://localhost:8080/"
        },
        "id": "y_sjpH7lHdEK",
        "outputId": "b5c606fd-80d4-4e40-b23a-4977c3bac964"
      },
      "source": [
        "np.argmax(model.predict(tmp))"
      ],
      "execution_count": 45,
      "outputs": [
        {
          "output_type": "execute_result",
          "data": {
            "text/plain": [
              "109"
            ]
          },
          "metadata": {
            "tags": []
          },
          "execution_count": 45
        }
      ]
    },
    {
      "cell_type": "code",
      "metadata": {
        "colab": {
          "base_uri": "https://localhost:8080/",
          "height": 35
        },
        "id": "jM6Ka5DZm4p_",
        "outputId": "d109f8d9-9a2b-4c55-fea4-e9adf07c5914"
      },
      "source": [
        "breeds[np.argmax(model.predict(tmp))]"
      ],
      "execution_count": 46,
      "outputs": [
        {
          "output_type": "execute_result",
          "data": {
            "application/vnd.google.colaboratory.intrinsic+json": {
              "type": "string"
            },
            "text/plain": [
              "'great_dane'"
            ]
          },
          "metadata": {
            "tags": []
          },
          "execution_count": 46
        }
      ]
    },
    {
      "cell_type": "code",
      "metadata": {
        "id": "gkOwxbRucFHh"
      },
      "source": [
        "# model.evaluate(test_x, y)"
      ],
      "execution_count": 47,
      "outputs": []
    },
    {
      "cell_type": "markdown",
      "metadata": {
        "id": "kmXyzPDfLUC-"
      },
      "source": [
        "### Model created  using Resnet50"
      ]
    },
    {
      "cell_type": "code",
      "metadata": {
        "colab": {
          "base_uri": "https://localhost:8080/"
        },
        "id": "6knrsuwNvKRl",
        "outputId": "4230f3d0-f67f-4a54-bbd0-2cf5c087231d"
      },
      "source": [
        "from tensorflow.keras.applications import ResNet50\n",
        "from tensorflow.keras.preprocessing.image import ImageDataGenerator\n",
        "from tensorflow.keras.layers import AveragePooling2D\n",
        "from tensorflow.keras.layers import Dropout\n",
        "from tensorflow.keras.layers import Flatten\n",
        "from tensorflow.keras.layers import Dense\n",
        "from tensorflow.keras.models import Model\n",
        "from tensorflow.keras.optimizers import Adam\n",
        "\n",
        "print(\"[INFO] preparing model...\")\n",
        "baseModel = ResNet50(weights=\"imagenet\", include_top=False, input_shape=(128, 128, 3))\n",
        "\n",
        "headModel = baseModel.output\n",
        "# headModel = Conv2D(64, (3,3), activation='relu')(headModel)\n",
        "# headModel = AveragePooling2D(pool_size=(2, 2))(headModel)\n",
        "# headModel = Conv2D(64, (3,3), activation='relu')(headModel)\n",
        "# headModel = AveragePooling2D(pool_size=(2, 2))(headModel)\n",
        "headModel = Flatten(name=\"flatten\")(headModel)\n",
        "headModel = Dense(1024, activation=\"relu\")(headModel)\n",
        "# headModel = Dropout(0.3)(headModel)\n",
        "headModel = Dense(512, activation=\"relu\")(headModel)\n",
        "headModel = Dense(256, activation=\"relu\")(headModel)\n",
        "headModel = Dense(120, activation=\"softmax\")(headModel)\n",
        "\n",
        "model = Model(inputs=baseModel.input, outputs=headModel)\n",
        "\n",
        "for layer in baseModel.layers:\n",
        "\tlayer.trainable = False\n",
        "\n",
        "model.compile(optimizer='adam',\n",
        "              loss='categorical_crossentropy',\n",
        "              metrics=['accuracy'])\n",
        "\n",
        "history = model.fit(train_x, y, epochs=50, batch_size=32)"
      ],
      "execution_count": 48,
      "outputs": [
        {
          "output_type": "stream",
          "text": [
            "[INFO] preparing model...\n",
            "Downloading data from https://storage.googleapis.com/tensorflow/keras-applications/resnet/resnet50_weights_tf_dim_ordering_tf_kernels_notop.h5\n",
            "94773248/94765736 [==============================] - 0s 0us/step\n",
            "Epoch 1/50\n",
            "313/313 [==============================] - 17s 46ms/step - loss: 5.1736 - accuracy: 0.0156\n",
            "Epoch 2/50\n",
            "313/313 [==============================] - 14s 45ms/step - loss: 4.6736 - accuracy: 0.0264\n",
            "Epoch 3/50\n",
            "313/313 [==============================] - 14s 45ms/step - loss: 4.5352 - accuracy: 0.0392\n",
            "Epoch 4/50\n",
            "313/313 [==============================] - 14s 45ms/step - loss: 4.3291 - accuracy: 0.0598\n",
            "Epoch 5/50\n",
            "313/313 [==============================] - 14s 45ms/step - loss: 3.9087 - accuracy: 0.0956\n",
            "Epoch 6/50\n",
            "313/313 [==============================] - 14s 44ms/step - loss: 3.5030 - accuracy: 0.1378\n",
            "Epoch 7/50\n",
            "313/313 [==============================] - 14s 44ms/step - loss: 3.0947 - accuracy: 0.1993\n",
            "Epoch 8/50\n",
            "313/313 [==============================] - 14s 44ms/step - loss: 2.7055 - accuracy: 0.2612\n",
            "Epoch 9/50\n",
            "313/313 [==============================] - 14s 45ms/step - loss: 2.3912 - accuracy: 0.3187\n",
            "Epoch 10/50\n",
            "313/313 [==============================] - 14s 45ms/step - loss: 2.1537 - accuracy: 0.3759\n",
            "Epoch 11/50\n",
            "313/313 [==============================] - 14s 44ms/step - loss: 1.9528 - accuracy: 0.4218\n",
            "Epoch 12/50\n",
            "313/313 [==============================] - 14s 44ms/step - loss: 1.7489 - accuracy: 0.4738\n",
            "Epoch 13/50\n",
            "313/313 [==============================] - 14s 44ms/step - loss: 1.6015 - accuracy: 0.5006\n",
            "Epoch 14/50\n",
            "313/313 [==============================] - 14s 45ms/step - loss: 1.4516 - accuracy: 0.5529\n",
            "Epoch 15/50\n",
            "313/313 [==============================] - 14s 44ms/step - loss: 1.3634 - accuracy: 0.5745\n",
            "Epoch 16/50\n",
            "313/313 [==============================] - 14s 44ms/step - loss: 1.2566 - accuracy: 0.5993\n",
            "Epoch 17/50\n",
            "313/313 [==============================] - 14s 44ms/step - loss: 1.1851 - accuracy: 0.6273\n",
            "Epoch 18/50\n",
            "313/313 [==============================] - 14s 44ms/step - loss: 1.1050 - accuracy: 0.6506\n",
            "Epoch 19/50\n",
            "313/313 [==============================] - 14s 44ms/step - loss: 1.0299 - accuracy: 0.6730\n",
            "Epoch 20/50\n",
            "313/313 [==============================] - 14s 44ms/step - loss: 1.0273 - accuracy: 0.6830\n",
            "Epoch 21/50\n",
            "313/313 [==============================] - 14s 44ms/step - loss: 0.9389 - accuracy: 0.7039\n",
            "Epoch 22/50\n",
            "313/313 [==============================] - 14s 44ms/step - loss: 0.9109 - accuracy: 0.7173\n",
            "Epoch 23/50\n",
            "313/313 [==============================] - 14s 44ms/step - loss: 0.8616 - accuracy: 0.7308\n",
            "Epoch 24/50\n",
            "313/313 [==============================] - 14s 45ms/step - loss: 0.8149 - accuracy: 0.7440\n",
            "Epoch 25/50\n",
            "313/313 [==============================] - 14s 44ms/step - loss: 0.7812 - accuracy: 0.7566\n",
            "Epoch 26/50\n",
            "313/313 [==============================] - 14s 44ms/step - loss: 0.7496 - accuracy: 0.7660\n",
            "Epoch 27/50\n",
            "313/313 [==============================] - 14s 44ms/step - loss: 0.7439 - accuracy: 0.7703\n",
            "Epoch 28/50\n",
            "313/313 [==============================] - 14s 44ms/step - loss: 0.7543 - accuracy: 0.7682\n",
            "Epoch 29/50\n",
            "313/313 [==============================] - 14s 44ms/step - loss: 0.6826 - accuracy: 0.7928\n",
            "Epoch 30/50\n",
            "313/313 [==============================] - 14s 44ms/step - loss: 0.6863 - accuracy: 0.7865\n",
            "Epoch 31/50\n",
            "313/313 [==============================] - 14s 44ms/step - loss: 0.6216 - accuracy: 0.8117\n",
            "Epoch 32/50\n",
            "313/313 [==============================] - 14s 44ms/step - loss: 0.6671 - accuracy: 0.7984\n",
            "Epoch 33/50\n",
            "313/313 [==============================] - 14s 44ms/step - loss: 0.6306 - accuracy: 0.8107\n",
            "Epoch 34/50\n",
            "313/313 [==============================] - 14s 44ms/step - loss: 0.6388 - accuracy: 0.8107\n",
            "Epoch 35/50\n",
            "313/313 [==============================] - 14s 44ms/step - loss: 0.6045 - accuracy: 0.8178\n",
            "Epoch 36/50\n",
            "313/313 [==============================] - 14s 44ms/step - loss: 0.5867 - accuracy: 0.8260\n",
            "Epoch 37/50\n",
            "313/313 [==============================] - 14s 44ms/step - loss: 0.5922 - accuracy: 0.8226\n",
            "Epoch 38/50\n",
            "313/313 [==============================] - 14s 44ms/step - loss: 0.5663 - accuracy: 0.8359\n",
            "Epoch 39/50\n",
            "313/313 [==============================] - 14s 44ms/step - loss: 0.5767 - accuracy: 0.8271\n",
            "Epoch 40/50\n",
            "313/313 [==============================] - 14s 44ms/step - loss: 0.5438 - accuracy: 0.8416\n",
            "Epoch 41/50\n",
            "313/313 [==============================] - 14s 44ms/step - loss: 0.5624 - accuracy: 0.8356\n",
            "Epoch 42/50\n",
            "313/313 [==============================] - 14s 44ms/step - loss: 0.5643 - accuracy: 0.8400\n",
            "Epoch 43/50\n",
            "313/313 [==============================] - 14s 44ms/step - loss: 0.5370 - accuracy: 0.8416\n",
            "Epoch 44/50\n",
            "313/313 [==============================] - 14s 44ms/step - loss: 0.4959 - accuracy: 0.8564\n",
            "Epoch 45/50\n",
            "313/313 [==============================] - 14s 44ms/step - loss: 0.5343 - accuracy: 0.8485\n",
            "Epoch 46/50\n",
            "313/313 [==============================] - 14s 45ms/step - loss: 0.4757 - accuracy: 0.8604\n",
            "Epoch 47/50\n",
            "313/313 [==============================] - 14s 44ms/step - loss: 0.5257 - accuracy: 0.8465\n",
            "Epoch 48/50\n",
            "313/313 [==============================] - 14s 44ms/step - loss: 0.4745 - accuracy: 0.8644\n",
            "Epoch 49/50\n",
            "313/313 [==============================] - 14s 44ms/step - loss: 0.4733 - accuracy: 0.8618\n",
            "Epoch 50/50\n",
            "313/313 [==============================] - 14s 45ms/step - loss: 0.4866 - accuracy: 0.8568\n"
          ],
          "name": "stdout"
        }
      ]
    },
    {
      "cell_type": "code",
      "metadata": {
        "colab": {
          "base_uri": "https://localhost:8080/",
          "height": 70
        },
        "id": "O8a4PcORDCGX",
        "outputId": "01c9bc72-d3e9-4c34-dd06-204bd4859976"
      },
      "source": [
        "model.save('dogbreedmodelresnet50.h5')\n",
        "\n",
        "files.download('dogbreedmodelresnet50.h5')"
      ],
      "execution_count": 49,
      "outputs": [
        {
          "output_type": "stream",
          "text": [
            "/usr/local/lib/python3.7/dist-packages/tensorflow/python/keras/utils/generic_utils.py:497: CustomMaskWarning: Custom mask layers require a config and must override get_config. When loading, the custom mask layer must be passed to the custom_objects argument.\n",
            "  category=CustomMaskWarning)\n"
          ],
          "name": "stderr"
        },
        {
          "output_type": "display_data",
          "data": {
            "application/javascript": [
              "\n",
              "    async function download(id, filename, size) {\n",
              "      if (!google.colab.kernel.accessAllowed) {\n",
              "        return;\n",
              "      }\n",
              "      const div = document.createElement('div');\n",
              "      const label = document.createElement('label');\n",
              "      label.textContent = `Downloading \"${filename}\": `;\n",
              "      div.appendChild(label);\n",
              "      const progress = document.createElement('progress');\n",
              "      progress.max = size;\n",
              "      div.appendChild(progress);\n",
              "      document.body.appendChild(div);\n",
              "\n",
              "      const buffers = [];\n",
              "      let downloaded = 0;\n",
              "\n",
              "      const channel = await google.colab.kernel.comms.open(id);\n",
              "      // Send a message to notify the kernel that we're ready.\n",
              "      channel.send({})\n",
              "\n",
              "      for await (const message of channel.messages) {\n",
              "        // Send a message to notify the kernel that we're ready.\n",
              "        channel.send({})\n",
              "        if (message.buffers) {\n",
              "          for (const buffer of message.buffers) {\n",
              "            buffers.push(buffer);\n",
              "            downloaded += buffer.byteLength;\n",
              "            progress.value = downloaded;\n",
              "          }\n",
              "        }\n",
              "      }\n",
              "      const blob = new Blob(buffers, {type: 'application/binary'});\n",
              "      const a = document.createElement('a');\n",
              "      a.href = window.URL.createObjectURL(blob);\n",
              "      a.download = filename;\n",
              "      div.appendChild(a);\n",
              "      a.click();\n",
              "      div.remove();\n",
              "    }\n",
              "  "
            ],
            "text/plain": [
              "<IPython.core.display.Javascript object>"
            ]
          },
          "metadata": {
            "tags": []
          }
        },
        {
          "output_type": "display_data",
          "data": {
            "application/javascript": [
              "download(\"download_a7df3047-6873-4fe2-8e2f-e5eebf5cb1ce\", \"dogbreedmodelresnet50.h5\", 505813960)"
            ],
            "text/plain": [
              "<IPython.core.display.Javascript object>"
            ]
          },
          "metadata": {
            "tags": []
          }
        }
      ]
    },
    {
      "cell_type": "code",
      "metadata": {
        "colab": {
          "base_uri": "https://localhost:8080/"
        },
        "id": "l2AStVBdtpdr",
        "outputId": "117de2aa-fa25-4c5f-a467-403c30b2536a"
      },
      "source": [
        "model.evaluate(test_x, y)"
      ],
      "execution_count": 50,
      "outputs": [
        {
          "output_type": "stream",
          "text": [
            "313/313 [==============================] - 14s 40ms/step - loss: 0.1272 - accuracy: 0.9659\n"
          ],
          "name": "stdout"
        },
        {
          "output_type": "execute_result",
          "data": {
            "text/plain": [
              "[0.12716327607631683, 0.9659000039100647]"
            ]
          },
          "metadata": {
            "tags": []
          },
          "execution_count": 50
        }
      ]
    },
    {
      "cell_type": "code",
      "metadata": {
        "id": "SL0ZS-w9NWJR"
      },
      "source": [
        "labels.head()"
      ],
      "execution_count": null,
      "outputs": []
    },
    {
      "cell_type": "code",
      "metadata": {
        "id": "RXSToDx9uTxB"
      },
      "source": [
        "model.predict(tmp)"
      ],
      "execution_count": null,
      "outputs": []
    },
    {
      "cell_type": "code",
      "metadata": {
        "id": "vqu1p1yYX2Yj",
        "colab": {
          "base_uri": "https://localhost:8080/",
          "height": 35
        },
        "outputId": "67bedaf5-a4ef-43d7-8e4c-d6a09ec2c3ed"
      },
      "source": [
        "tmp = train_x[0]\n",
        "tmp = tmp.reshape(-1, 128, 128, 3)\n",
        "breeds[np.argmax(model.predict(tmp))]"
      ],
      "execution_count": 53,
      "outputs": [
        {
          "output_type": "execute_result",
          "data": {
            "application/vnd.google.colaboratory.intrinsic+json": {
              "type": "string"
            },
            "text/plain": [
              "'irish_setter'"
            ]
          },
          "metadata": {
            "tags": []
          },
          "execution_count": 53
        }
      ]
    },
    {
      "cell_type": "code",
      "metadata": {
        "id": "c85dPECZUSVl",
        "colab": {
          "base_uri": "https://localhost:8080/",
          "height": 223
        },
        "outputId": "d4404024-9c52-45b6-daf8-6b117dfb639f"
      },
      "source": [
        "cnt = 0\n",
        "final_results = []\n",
        "for i in range(len(test_x)):\n",
        "  print(cnt)\n",
        "  tmp = test_x[i].reshape(-1, 128, 128, 3)\n",
        "  final_results.append(labels_list[np.argmax(model.predict(tmp))])\n",
        "  cnt+=1"
      ],
      "execution_count": 54,
      "outputs": [
        {
          "output_type": "stream",
          "text": [
            "0\n"
          ],
          "name": "stdout"
        },
        {
          "output_type": "error",
          "ename": "NameError",
          "evalue": "ignored",
          "traceback": [
            "\u001b[0;31m---------------------------------------------------------------------------\u001b[0m",
            "\u001b[0;31mNameError\u001b[0m                                 Traceback (most recent call last)",
            "\u001b[0;32m<ipython-input-54-d6a8d2f61a77>\u001b[0m in \u001b[0;36m<module>\u001b[0;34m()\u001b[0m\n\u001b[1;32m      4\u001b[0m   \u001b[0mprint\u001b[0m\u001b[0;34m(\u001b[0m\u001b[0mcnt\u001b[0m\u001b[0;34m)\u001b[0m\u001b[0;34m\u001b[0m\u001b[0;34m\u001b[0m\u001b[0m\n\u001b[1;32m      5\u001b[0m   \u001b[0mtmp\u001b[0m \u001b[0;34m=\u001b[0m \u001b[0mtest_x\u001b[0m\u001b[0;34m[\u001b[0m\u001b[0mi\u001b[0m\u001b[0;34m]\u001b[0m\u001b[0;34m.\u001b[0m\u001b[0mreshape\u001b[0m\u001b[0;34m(\u001b[0m\u001b[0;34m-\u001b[0m\u001b[0;36m1\u001b[0m\u001b[0;34m,\u001b[0m \u001b[0;36m128\u001b[0m\u001b[0;34m,\u001b[0m \u001b[0;36m128\u001b[0m\u001b[0;34m,\u001b[0m \u001b[0;36m3\u001b[0m\u001b[0;34m)\u001b[0m\u001b[0;34m\u001b[0m\u001b[0;34m\u001b[0m\u001b[0m\n\u001b[0;32m----> 6\u001b[0;31m   \u001b[0mfinal_results\u001b[0m\u001b[0;34m.\u001b[0m\u001b[0mappend\u001b[0m\u001b[0;34m(\u001b[0m\u001b[0mlabels_list\u001b[0m\u001b[0;34m[\u001b[0m\u001b[0mnp\u001b[0m\u001b[0;34m.\u001b[0m\u001b[0margmax\u001b[0m\u001b[0;34m(\u001b[0m\u001b[0mmodel\u001b[0m\u001b[0;34m.\u001b[0m\u001b[0mpredict\u001b[0m\u001b[0;34m(\u001b[0m\u001b[0mtmp\u001b[0m\u001b[0;34m)\u001b[0m\u001b[0;34m)\u001b[0m\u001b[0;34m]\u001b[0m\u001b[0;34m)\u001b[0m\u001b[0;34m\u001b[0m\u001b[0;34m\u001b[0m\u001b[0m\n\u001b[0m\u001b[1;32m      7\u001b[0m   \u001b[0mcnt\u001b[0m\u001b[0;34m+=\u001b[0m\u001b[0;36m1\u001b[0m\u001b[0;34m\u001b[0m\u001b[0;34m\u001b[0m\u001b[0m\n",
            "\u001b[0;31mNameError\u001b[0m: name 'labels_list' is not defined"
          ]
        }
      ]
    },
    {
      "cell_type": "code",
      "metadata": {
        "id": "C9w0YjvvXCpC"
      },
      "source": [
        "from matplotlib import pyplot as plt\n",
        "from PIL import Image\n",
        "\n",
        "img = Image.open(path + '/' + str(labels['id'][4])+ '.jpg')\n",
        "img = np.asarray(img)\n",
        "resimg = cv.resize(img, (128,128))\n",
        "plt.imshow(resimg)"
      ],
      "execution_count": null,
      "outputs": []
    },
    {
      "cell_type": "code",
      "metadata": {
        "id": "AAN2ylFNmNeU"
      },
      "source": [
        "%cd .."
      ],
      "execution_count": null,
      "outputs": []
    },
    {
      "cell_type": "code",
      "metadata": {
        "id": "iBdWTbgUjnWj"
      },
      "source": [
        "y_pred = final_results"
      ],
      "execution_count": null,
      "outputs": []
    },
    {
      "cell_type": "code",
      "metadata": {
        "id": "CuGZnvgJp26a"
      },
      "source": [
        "str(final_results)"
      ],
      "execution_count": null,
      "outputs": []
    },
    {
      "cell_type": "code",
      "metadata": {
        "id": "mUAlRgXPkKJI"
      },
      "source": [
        "cnt = 0\n",
        "for i in range(len(y_pred)):\n",
        "  if y_pred[i] != labels['breed'][i]:\n",
        "    cnt += 1\n",
        "print(cnt)"
      ],
      "execution_count": null,
      "outputs": []
    },
    {
      "cell_type": "code",
      "metadata": {
        "id": "TeURVMN4kZl7"
      },
      "source": [
        "# Importing the dependancies\n",
        "from sklearn import metrics\n",
        "# Predicted values\n",
        "# y_pred = [\"a\", \"b\", \"c\", \"a\", \"b\"]\n",
        "# Actual valuefs\n",
        "# y_act = [\"a\", \"b\", \"c\", \"c\", \"a\"]\n",
        "# Printing the confusion matrix\n",
        "# The columns will show the instances predicted for each label,\n",
        "# and the rows will show the actual number of instances for each label.\n",
        "print(metrics.confusion_matrix(labels['breed'][10000:], y_pred, labels['breed'].unique()))\n",
        "# Printing the precision and recall, among other metrics\n",
        "print(metrics.classification_report(labels['breed'][10000:], y_pred, labels['breed'].unique()))"
      ],
      "execution_count": null,
      "outputs": []
    }
  ]
}